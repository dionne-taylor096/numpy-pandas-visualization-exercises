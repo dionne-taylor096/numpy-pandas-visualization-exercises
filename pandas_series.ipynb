{
 "cells": [
  {
   "cell_type": "code",
   "execution_count": null,
   "id": "c1601cd5",
   "metadata": {},
   "outputs": [],
   "source": [
    "import pandas as pd\n",
    "import numpy as np"
   ]
  },
  {
   "cell_type": "code",
   "execution_count": null,
   "id": "d217fcc4",
   "metadata": {},
   "outputs": [],
   "source": [
    "from pydataset import data"
   ]
  },
  {
   "cell_type": "code",
   "execution_count": null,
   "id": "aca84245",
   "metadata": {},
   "outputs": [],
   "source": [
    "import sys\n",
    "print(sys.executable)"
   ]
  },
  {
   "cell_type": "code",
   "execution_count": null,
   "id": "77108532",
   "metadata": {},
   "outputs": [],
   "source": [
    "# Create a Series named fruits from a list\n",
    "fruits_list = [\"kiwi\", \"mango\", \"strawberry\", \"pineapple\", \"gala apple\", \"honeycrisp apple\", \"tomato\", \"watermelon\", \"honeydew\", \"kiwi\", \"kiwi\", \"kiwi\", \"mango\", \"blueberry\", \"blackberry\", \"gooseberry\", \"papaya\"]\n",
    "fruits = pd.Series(fruits_list)"
   ]
  },
  {
   "cell_type": "code",
   "execution_count": null,
   "id": "b21dc5b3",
   "metadata": {},
   "outputs": [],
   "source": [
    "fruits"
   ]
  },
  {
   "cell_type": "code",
   "execution_count": null,
   "id": "7a8db5a1",
   "metadata": {},
   "outputs": [],
   "source": [
    "# Determine the number of elements in fruits\n",
    "print(f\"Number of elements in fruits: {len(fruits)}\\n\")"
   ]
  },
  {
   "cell_type": "code",
   "execution_count": null,
   "id": "10b3f876",
   "metadata": {},
   "outputs": [],
   "source": [
    "# Output only the index from fruits\n",
    "print(f\"Index of fruits:\\n{fruits.index}\\n\")"
   ]
  },
  {
   "cell_type": "code",
   "execution_count": null,
   "id": "aeef7e9d",
   "metadata": {
    "scrolled": true
   },
   "outputs": [],
   "source": [
    "# Output only the values from fruits\n",
    "print(f\"Values of fruits:\\n{fruits.values}\\n\")"
   ]
  },
  {
   "cell_type": "code",
   "execution_count": null,
   "id": "70487bb1",
   "metadata": {},
   "outputs": [],
   "source": [
    "# Confirm the data type of the values in fruits\n",
    "print(f\"Data type of values in fruits: {fruits.dtype}\\n\")"
   ]
  },
  {
   "cell_type": "code",
   "execution_count": null,
   "id": "4b366be0",
   "metadata": {},
   "outputs": [],
   "source": [
    "# Output the first five values from fruits\n",
    "print(f\"First five values of fruits:\\n{fruits.head()}\\n\")"
   ]
  },
  {
   "cell_type": "code",
   "execution_count": null,
   "id": "58abc4d2",
   "metadata": {},
   "outputs": [],
   "source": [
    "# Output the last three values from fruits\n",
    "print(f\"Last three values of fruits:\\n{fruits.tail(3)}\\n\")"
   ]
  },
  {
   "cell_type": "code",
   "execution_count": null,
   "id": "48974465",
   "metadata": {},
   "outputs": [],
   "source": [
    "# Output two random values from fruits\n",
    "print(f\"Two random values from fruits:\\n{fruits.sample(2)}\\n\")"
   ]
  },
  {
   "cell_type": "code",
   "execution_count": null,
   "id": "face5b28",
   "metadata": {},
   "outputs": [],
   "source": [
    "# Get summary statistics of fruits\n",
    "print(f\"Summary statistics of fruits:\\n{fruits.describe()}\\n\")"
   ]
  },
  {
   "cell_type": "code",
   "execution_count": null,
   "id": "19a89f85",
   "metadata": {},
   "outputs": [],
   "source": [
    "# Get the unique values in fruits\n",
    "unique_fruits = fruits.unique()\n",
    "print(f\"Unique fruits:\\n{unique_fruits}\\n\")"
   ]
  },
  {
   "cell_type": "code",
   "execution_count": null,
   "id": "406bba2b",
   "metadata": {},
   "outputs": [],
   "source": [
    "# Count the occurrences of each unique value in fruits\n",
    "fruit_counts = fruits.value_counts()\n",
    "print(f\"Fruit counts:\\n{fruit_counts}\\n\")"
   ]
  },
  {
   "cell_type": "code",
   "execution_count": null,
   "id": "26e07dca",
   "metadata": {},
   "outputs": [],
   "source": [
    "# Get the string value that occurs most frequently in fruits\n",
    "most_frequent_fruit = fruits.value_counts().idxmax()\n",
    "print(f\"Most frequent fruit: {most_frequent_fruit}\\n\")"
   ]
  },
  {
   "cell_type": "code",
   "execution_count": null,
   "id": "809433a1",
   "metadata": {},
   "outputs": [],
   "source": [
    "# Get the string value that occurs least frequently in fruits\n",
    "least_frequent_fruit = fruits.value_counts().idxmin()\n",
    "print(f\"Least frequent fruit: {least_frequent_fruit}\\n\")"
   ]
  },
  {
   "cell_type": "code",
   "execution_count": null,
   "id": "96529ed2",
   "metadata": {},
   "outputs": [],
   "source": [
    "# Capitalize all the string values in fruits\n",
    "capitalized_fruits = fruits.str.capitalize()\n",
    "print(f\"Capitalized fruits:\\n{capitalized_fruits}\\n\")"
   ]
  },
  {
   "cell_type": "code",
   "execution_count": null,
   "id": "97bf6aca",
   "metadata": {},
   "outputs": [],
   "source": [
    "# Count the letter \"a\" in all the string values using string vectorization\n",
    "a_counts = fruits.str.count(\"a\")\n",
    "print(f\"Counts of 'a' in each fruit:\\n{a_counts}\\n\")"
   ]
  },
  {
   "cell_type": "code",
   "execution_count": null,
   "id": "c9e82912",
   "metadata": {},
   "outputs": [],
   "source": [
    "count_a = fruits.str.count('a').sum()\n",
    "print(\"The total number of letter 'a' in all the string values is:\", count_a)"
   ]
  },
  {
   "cell_type": "code",
   "execution_count": null,
   "id": "9ef4f8d1",
   "metadata": {},
   "outputs": [],
   "source": [
    "# Output the number of vowels in each and every string value\n",
    "vowel_counts = fruits.str.count(\"[aeiou]\")\n",
    "print(f\"Counts of vowels in each fruit:\\n{vowel_counts}\\n\")"
   ]
  },
  {
   "cell_type": "code",
   "execution_count": null,
   "id": "19dfda65",
   "metadata": {},
   "outputs": [],
   "source": [
    "# Get the longest string value from fruits\n",
    "longest_fruit = fruits[fruits.str.len().idxmax()]\n",
    "print(f\"Longest fruit: {longest_fruit}\\n\")"
   ]
  },
  {
   "cell_type": "code",
   "execution_count": null,
   "id": "17449cb0",
   "metadata": {},
   "outputs": [],
   "source": [
    "# Get the string values with 5 or more letters in the name\n",
    "long_fruits = fruits[fruits.str.len() >= 5]\n",
    "print(f\"Fruits with 5 or more letters:\\n{long_fruits}\\n\")"
   ]
  },
  {
   "cell_type": "code",
   "execution_count": null,
   "id": "689378c3",
   "metadata": {},
   "outputs": [],
   "source": [
    "# Get the fruit(s) containing the letter \"o\" two or more times\n",
    "o_fruits = fruits[fruits.str.count(\"o\") >= 2]\n",
    "print(f\"Fruits with two or more 'o's:\\n{o_fruits}\\n\")"
   ]
  },
  {
   "cell_type": "code",
   "execution_count": null,
   "id": "d2d122fa",
   "metadata": {},
   "outputs": [],
   "source": [
    "# Get only the string values containing the substring \"berry\"\n",
    "berry_fruits = fruits[fruits.str.contains('berry')]\n",
    "print(\"Fruits containing the substring 'berry':\\n\", berry_fruits)"
   ]
  },
  {
   "cell_type": "code",
   "execution_count": null,
   "id": "8447a408",
   "metadata": {},
   "outputs": [],
   "source": [
    "# Get only the string values containing the substring \"apple\".\n",
    "apple_fruits = fruits[fruits.str.contains('apple')]\n",
    "print(\"Fruits containing the substring 'apple':\\n\", apple_fruits)"
   ]
  },
  {
   "cell_type": "code",
   "execution_count": null,
   "id": "df585024",
   "metadata": {},
   "outputs": [],
   "source": [
    "# String value containing the most vowels\n",
    "vowels = ['a', 'e', 'i', 'o', 'u']\n",
    "for fruit in fruits:\n",
    "    vowel_count = sum(fruit.count(vowel) for vowel in vowels)\n",
    "    print(fruit, \"has\", vowel_count, \"vowels\")"
   ]
  },
  {
   "cell_type": "code",
   "execution_count": null,
   "id": "ff55a770",
   "metadata": {},
   "outputs": [],
   "source": [
    "# Create the letters Series\n",
    "letters = pd.Series(list('hnvidduckkqxwymbimkccexbkmqygkxoyndmcxnwqarhyffsjpsrabtjzsypmzadfavyrnndndvswreauxovncxtwzpwejilzjrmmbbgbyxvjtewqthafnbkqplarokkyydtubbmnexoypulzwfhqvckdpqtpoppzqrmcvhhpwgjwupgzhiofohawytlsiyecuproguy'))"
   ]
  },
  {
   "cell_type": "code",
   "execution_count": null,
   "id": "0572e83a",
   "metadata": {},
   "outputs": [],
   "source": [
    "most_frequent = letters.value_counts().idxmax()\n",
    "print(\"The string value that occurs most frequently in letters is:\", most_frequent)"
   ]
  },
  {
   "cell_type": "code",
   "execution_count": null,
   "id": "936cb6f8",
   "metadata": {},
   "outputs": [],
   "source": [
    "least_frequent = letters.value_counts().idxmin()\n",
    "print(\"The string value that occurs least frequently in letters is:\", least_frequent)"
   ]
  },
  {
   "cell_type": "code",
   "execution_count": null,
   "id": "9eea0fcd",
   "metadata": {},
   "outputs": [],
   "source": [
    "# Count the number of vowels in the Series\n",
    "num_vowels = letters.str.lower().str.count('[aeiou]')\n",
    "print(\"Number of vowels in the Series:\", num_vowels.sum())"
   ]
  },
  {
   "cell_type": "code",
   "execution_count": null,
   "id": "2336b383",
   "metadata": {},
   "outputs": [],
   "source": [
    "# Count the number of consonants in the Series\n",
    "num_consonants = letters.str.lower().str.count('[bcdfghjklmnpqrstvwxyz]')\n",
    "print(\"Number of consonants in the Series:\", num_consonants.sum())"
   ]
  },
  {
   "cell_type": "code",
   "execution_count": null,
   "id": "10e1bd1a",
   "metadata": {},
   "outputs": [],
   "source": [
    "# Create a new Series with all uppercased letters\n",
    "letters_upper = letters.str.upper()"
   ]
  },
  {
   "cell_type": "code",
   "execution_count": null,
   "id": "daf93d66",
   "metadata": {},
   "outputs": [],
   "source": [
    "letters_upper.head()"
   ]
  },
  {
   "cell_type": "code",
   "execution_count": null,
   "id": "362a0c68",
   "metadata": {},
   "outputs": [],
   "source": [
    "import matplotlib.pyplot as plt"
   ]
  },
  {
   "cell_type": "code",
   "execution_count": null,
   "id": "2534d886",
   "metadata": {},
   "outputs": [],
   "source": [
    "# Create a bar plot of the frequencies of the 6 most commonly occuring letters\n",
    "letters_freq = letters.value_counts().head(6)\n",
    "letters_freq.plot(kind='bar')\n",
    "plt.show()"
   ]
  },
  {
   "cell_type": "code",
   "execution_count": null,
   "id": "b4f87573",
   "metadata": {},
   "outputs": [],
   "source": [
    "# Use pandas to create a Series named numbers from the following list:\n",
    "\n",
    "# ['$796,459.41', '$278.60', '$482,571.67', '$4,503,915.98', '$2,121,418.3', '$1,260,813.3', '$87,231.01', '$1,509,175.45', '$4,138,548.00', '$2,848,913.80', '$594,715.39', '$4,789,988.17', '$4,513,644.5', '$3,191,059.97', '$1,758,712.24', '$4,338,283.54', '$4,738,303.38', '$2,791,759.67', '$769,681.94', '$452,650.23']\n",
    "\n",
    "# 1. What is the data type of the numbers Series?\n",
    "\n",
    "# 2. How many elements are in the number Series?\n",
    "\n",
    "# 3. Perform the necessary manipulations by accessing Series attributes and methods to convert the numbers Series to a numeric data type.\n",
    "\n",
    "# 4. Run the code to discover the maximum value from the Series.\n",
    "\n",
    "# 5. Run the code to discover the minimum value from the Series.\n",
    "\n",
    "# 6. What is the range of the values in the Series?\n",
    "\n",
    "# 7. Bin the data into 4 equally sized intervals or bins and output how many values fall into each bin.\n",
    "\n",
    "# 8. Plot the binned data in a meaningful way. Be sure to include a title and axis labels."
   ]
  },
  {
   "cell_type": "code",
   "execution_count": null,
   "id": "b4379cb1",
   "metadata": {},
   "outputs": [],
   "source": [
    "# create the numbers series\n",
    "numbers = pd.Series(['$796,459.41', '$278.60', '$482,571.67', '$4,503,915.98', '$2,121,418.3', '$1,260,813.3', '$87,231.01', '$1,509,175.45', '$4,138,548.00', '$2,848,913.80', '$594,715.39', '$4,789,988.17', '$4,513,644.5', '$3,191,059.97', '$1,758,712.24', '$4,338,283.54', '$4,738,303.38', '$2,791,759.67', '$769,681.94', '$452,650.23'])"
   ]
  },
  {
   "cell_type": "code",
   "execution_count": null,
   "id": "2f1c146f",
   "metadata": {},
   "outputs": [],
   "source": [
    "# Data type of the numbers Series\n",
    "print(numbers.dtype)"
   ]
  },
  {
   "cell_type": "code",
   "execution_count": null,
   "id": "74b5d397",
   "metadata": {},
   "outputs": [],
   "source": [
    "# Elements are in the number Series\n",
    "print(len(numbers))"
   ]
  },
  {
   "cell_type": "code",
   "execution_count": null,
   "id": "45c29617",
   "metadata": {
    "scrolled": true
   },
   "outputs": [],
   "source": [
    "# Convert the series to numeric data type\n",
    "numbers = pd.to_numeric(numbers.str.replace(',', '').str.replace('$', ''))\n",
    "print(numbers)"
   ]
  },
  {
   "cell_type": "code",
   "execution_count": null,
   "id": "267fb019",
   "metadata": {},
   "outputs": [],
   "source": [
    "print(numbers.dtype)"
   ]
  },
  {
   "cell_type": "code",
   "execution_count": null,
   "id": "8d18bcf4",
   "metadata": {},
   "outputs": [],
   "source": [
    "max_value = numbers.max()"
   ]
  },
  {
   "cell_type": "code",
   "execution_count": null,
   "id": "0159b328",
   "metadata": {},
   "outputs": [],
   "source": [
    "print(max_value)"
   ]
  },
  {
   "cell_type": "code",
   "execution_count": null,
   "id": "e81ff958",
   "metadata": {},
   "outputs": [],
   "source": [
    "min_value = numbers.min()"
   ]
  },
  {
   "cell_type": "code",
   "execution_count": null,
   "id": "a0ca10cc",
   "metadata": {},
   "outputs": [],
   "source": [
    "print(min_value)"
   ]
  },
  {
   "cell_type": "code",
   "execution_count": null,
   "id": "d6d5c864",
   "metadata": {},
   "outputs": [],
   "source": [
    "value_range = max_value - min_value"
   ]
  },
  {
   "cell_type": "code",
   "execution_count": null,
   "id": "833f94ca",
   "metadata": {},
   "outputs": [],
   "source": [
    "print(value_range)"
   ]
  },
  {
   "cell_type": "code",
   "execution_count": null,
   "id": "b4ad505f",
   "metadata": {},
   "outputs": [],
   "source": [
    "numbers"
   ]
  },
  {
   "cell_type": "code",
   "execution_count": null,
   "id": "00de8648",
   "metadata": {},
   "outputs": [],
   "source": [
    "# bin the data into 4 equally sized intervals\n",
    "bins = pd.cut(numbers, bins=4)"
   ]
  },
  {
   "cell_type": "code",
   "execution_count": null,
   "id": "4ba8678f",
   "metadata": {},
   "outputs": [],
   "source": [
    "bins"
   ]
  },
  {
   "cell_type": "code",
   "execution_count": null,
   "id": "0afce4ad",
   "metadata": {},
   "outputs": [],
   "source": [
    "# count the number of values in each bin\n",
    "bin_counts = bins.value_counts()"
   ]
  },
  {
   "cell_type": "code",
   "execution_count": null,
   "id": "eec899bd",
   "metadata": {},
   "outputs": [],
   "source": [
    "# output the number of values in each bin\n",
    "print(bin_counts)"
   ]
  },
  {
   "cell_type": "code",
   "execution_count": null,
   "id": "7d5df9de",
   "metadata": {},
   "outputs": [],
   "source": [
    "# plot the binned data\n",
    "bin_counts.plot(kind='bar')\n",
    "plt.title('Number of Values in Bins')\n",
    "plt.xlabel('Bin')\n",
    "plt.ylabel('Count')\n",
    "plt.show()"
   ]
  },
  {
   "cell_type": "code",
   "execution_count": null,
   "id": "f11a4629",
   "metadata": {},
   "outputs": [],
   "source": [
    "# Create the exam_scores Series\n",
    "exam_scores = pd.Series([60, 86, 75, 62, 93, 71, 60, 83, 95, 78, 65, 72, 69, 81, 96, 80, 85, 92, 82, 78])"
   ]
  },
  {
   "cell_type": "code",
   "execution_count": null,
   "id": "fdfb0914",
   "metadata": {},
   "outputs": [],
   "source": [
    "print(exam_scores)"
   ]
  },
  {
   "cell_type": "code",
   "execution_count": null,
   "id": "b4632cea",
   "metadata": {},
   "outputs": [],
   "source": [
    "# Find the number of elements in the Series\n",
    "num_elements = len(exam_scores)\n",
    "print(\"Number of elements:\", num_elements)"
   ]
  },
  {
   "cell_type": "code",
   "execution_count": null,
   "id": "e88e9985",
   "metadata": {},
   "outputs": [],
   "source": [
    "# Find the minimum, maximum, mean, and median scores\n",
    "print(\"Minimum score:\", exam_scores.min())\n",
    "print(\"Maximum score:\", exam_scores.max())\n",
    "print(\"Mean score:\", exam_scores.mean())\n",
    "print(\"Median score:\", exam_scores.median())"
   ]
  },
  {
   "cell_type": "code",
   "execution_count": null,
   "id": "76f10cc0",
   "metadata": {},
   "outputs": [],
   "source": [
    "# Plot the Series\n",
    "plt.hist(exam_scores)\n",
    "plt.title(\"Exam Scores\")\n",
    "plt.xlabel(\"Score\")\n",
    "plt.ylabel(\"Frequency\")\n",
    "plt.show()"
   ]
  },
  {
   "cell_type": "code",
   "execution_count": null,
   "id": "d4649804",
   "metadata": {},
   "outputs": [],
   "source": [
    "# Curve the exam_scores Series\n",
    "max_score = exam_scores.max()\n",
    "curved_grades = ((exam_scores + (100 - max_score)) / 100) * 100"
   ]
  },
  {
   "cell_type": "code",
   "execution_count": null,
   "id": "00e7e313",
   "metadata": {},
   "outputs": [],
   "source": [
    "print(curved_grades)"
   ]
  },
  {
   "cell_type": "code",
   "execution_count": null,
   "id": "b7af0f8c",
   "metadata": {},
   "outputs": [],
   "source": [
    "# Convert the numeric values to categorical values\n",
    "bins = [0, 60, 70, 80, 90, 100]\n",
    "labels = ['F', 'D', 'C', 'B', 'A']\n",
    "letter_grades = pd.cut(curved_grades, bins=bins, labels=labels)"
   ]
  },
  {
   "cell_type": "code",
   "execution_count": null,
   "id": "ceeeb386",
   "metadata": {},
   "outputs": [],
   "source": [
    "print(letter_grades)"
   ]
  },
  {
   "cell_type": "code",
   "execution_count": null,
   "id": "4960a81b",
   "metadata": {},
   "outputs": [],
   "source": [
    "# Plot the categorical letter_grades Series\n",
    "plt.hist(letter_grades)\n",
    "plt.title(\"Letter Grades\")\n",
    "plt.xlabel(\"Grade\")\n",
    "plt.ylabel(\"Frequency\")"
   ]
  }
 ],
 "metadata": {
  "kernelspec": {
   "display_name": "python3_10_8",
   "language": "python",
   "name": "python3_10_8"
  },
  "language_info": {
   "codemirror_mode": {
    "name": "ipython",
    "version": 3
   },
   "file_extension": ".py",
   "mimetype": "text/x-python",
   "name": "python",
   "nbconvert_exporter": "python",
   "pygments_lexer": "ipython3",
   "version": "3.9.6"
  }
 },
 "nbformat": 4,
 "nbformat_minor": 5
}
