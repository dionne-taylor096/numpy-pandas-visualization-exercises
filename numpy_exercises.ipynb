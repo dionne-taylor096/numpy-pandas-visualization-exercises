{
 "cells": [
  {
   "cell_type": "code",
   "execution_count": null,
   "id": "24ef3cfe",
   "metadata": {},
   "outputs": [],
   "source": [
    "import numpy as np"
   ]
  },
  {
   "cell_type": "code",
   "execution_count": null,
   "id": "11a2114c",
   "metadata": {},
   "outputs": [],
   "source": [
    "# Set up array"
   ]
  },
  {
   "cell_type": "code",
   "execution_count": null,
   "id": "40bb51e1",
   "metadata": {},
   "outputs": [],
   "source": [
    "a = np.array([4, 10, 12, 23, -2, -1, 0, 0, 0, -6, 3, -7])"
   ]
  },
  {
   "cell_type": "code",
   "execution_count": null,
   "id": "20437694",
   "metadata": {},
   "outputs": [],
   "source": [
    "neg = np.where(a < 0, True, False)"
   ]
  },
  {
   "cell_type": "code",
   "execution_count": null,
   "id": "72ac2c4a",
   "metadata": {},
   "outputs": [],
   "source": [
    "neg_values = np.count_nonzero(neg)"
   ]
  },
  {
   "cell_type": "code",
   "execution_count": null,
   "id": "393d4731",
   "metadata": {},
   "outputs": [],
   "source": [
    "print(\"This array has\", neg_values, \"negative numbers.\")"
   ]
  },
  {
   "cell_type": "code",
   "execution_count": null,
   "id": "feff84b6",
   "metadata": {},
   "outputs": [],
   "source": [
    "pos = np.where(a > 0, True, False)"
   ]
  },
  {
   "cell_type": "code",
   "execution_count": null,
   "id": "04a5d24c",
   "metadata": {},
   "outputs": [],
   "source": [
    "pos_values = np.count_nonzero(pos)"
   ]
  },
  {
   "cell_type": "code",
   "execution_count": null,
   "id": "825120af",
   "metadata": {},
   "outputs": [],
   "source": [
    "print(\"This array has\", pos_values, \"positive numbers.\")"
   ]
  },
  {
   "cell_type": "code",
   "execution_count": null,
   "id": "3ab194cd",
   "metadata": {},
   "outputs": [],
   "source": [
    "pos_even = np.where(a % 2, True, False)"
   ]
  },
  {
   "cell_type": "code",
   "execution_count": null,
   "id": "322779b2",
   "metadata": {},
   "outputs": [],
   "source": [
    "pos_even_values = np.count_nonzero(pos_even)"
   ]
  },
  {
   "cell_type": "code",
   "execution_count": null,
   "id": "6b4ca881",
   "metadata": {},
   "outputs": [],
   "source": [
    "print(\"This array has\", {pos_even_values}, \"positive even numbers.\")"
   ]
  },
  {
   "cell_type": "code",
   "execution_count": null,
   "id": "8b456d49",
   "metadata": {},
   "outputs": [],
   "source": [
    "a = np.add(a, 3)"
   ]
  },
  {
   "cell_type": "code",
   "execution_count": null,
   "id": "144362c7",
   "metadata": {},
   "outputs": [],
   "source": [
    "a"
   ]
  },
  {
   "cell_type": "code",
   "execution_count": null,
   "id": "f6a66b02",
   "metadata": {},
   "outputs": [],
   "source": [
    "a_mean = np.mean(a)"
   ]
  },
  {
   "cell_type": "code",
   "execution_count": null,
   "id": "2d21b273",
   "metadata": {},
   "outputs": [],
   "source": [
    "a_mean"
   ]
  },
  {
   "cell_type": "code",
   "execution_count": null,
   "id": "03657e08",
   "metadata": {},
   "outputs": [],
   "source": [
    "a_squared = np.square(a)"
   ]
  },
  {
   "cell_type": "code",
   "execution_count": null,
   "id": "92309390",
   "metadata": {},
   "outputs": [],
   "source": [
    "a_squared"
   ]
  },
  {
   "cell_type": "code",
   "execution_count": null,
   "id": "e5b771f8",
   "metadata": {},
   "outputs": [],
   "source": [
    "a_mean = np.mean(a)"
   ]
  },
  {
   "cell_type": "code",
   "execution_count": null,
   "id": "646a6d96",
   "metadata": {},
   "outputs": [],
   "source": [
    "a_mean"
   ]
  },
  {
   "cell_type": "code",
   "execution_count": null,
   "id": "85a6d2ab",
   "metadata": {},
   "outputs": [],
   "source": [
    "a_std = np.std(a)"
   ]
  },
  {
   "cell_type": "code",
   "execution_count": null,
   "id": "d5dd28c7",
   "metadata": {},
   "outputs": [],
   "source": [
    "a_std"
   ]
  },
  {
   "cell_type": "code",
   "execution_count": null,
   "id": "940dc2a0",
   "metadata": {},
   "outputs": [],
   "source": [
    "a_subtract = np.subtract(a, 6)"
   ]
  },
  {
   "cell_type": "code",
   "execution_count": null,
   "id": "020f79ee",
   "metadata": {},
   "outputs": [],
   "source": [
    "a_subtract"
   ]
  },
  {
   "cell_type": "code",
   "execution_count": null,
   "id": "1d1d55ce",
   "metadata": {},
   "outputs": [],
   "source": [
    "def z_score(a, a_mean, a_std):\n",
    "    return (a - a_mean) / a_std"
   ]
  },
  {
   "cell_type": "code",
   "execution_count": null,
   "id": "c16c47e0",
   "metadata": {},
   "outputs": [],
   "source": [
    "import sys\n",
    "print (sys.version)"
   ]
  },
  {
   "cell_type": "code",
   "execution_count": null,
   "id": "fd7419cf",
   "metadata": {},
   "outputs": [],
   "source": [
    "import statistics\n",
    "print('NormalDist' in dir(statistics))"
   ]
  },
  {
   "cell_type": "code",
   "execution_count": null,
   "id": "696a5541",
   "metadata": {},
   "outputs": [],
   "source": [
    "test = statistics.NormalDist(6.0, 8.06) "
   ]
  },
  {
   "cell_type": "code",
   "execution_count": null,
   "id": "9291c296",
   "metadata": {},
   "outputs": [],
   "source": [
    "test"
   ]
  },
  {
   "cell_type": "code",
   "execution_count": null,
   "id": "f0245a66",
   "metadata": {},
   "outputs": [],
   "source": [
    "## z_score = value - mean/std"
   ]
  },
  {
   "cell_type": "code",
   "execution_count": null,
   "id": "b2cc9e19",
   "metadata": {},
   "outputs": [],
   "source": [
    "z_score = np.divide(np.subtract(a, a_mean), a_std)"
   ]
  },
  {
   "cell_type": "code",
   "execution_count": null,
   "id": "7f9c2b93",
   "metadata": {
    "scrolled": true
   },
   "outputs": [],
   "source": [
    "z_score"
   ]
  },
  {
   "cell_type": "code",
   "execution_count": null,
   "id": "2fbe8f98",
   "metadata": {},
   "outputs": [],
   "source": [
    "# Set up array"
   ]
  },
  {
   "cell_type": "code",
   "execution_count": null,
   "id": "794e84d4",
   "metadata": {},
   "outputs": [],
   "source": [
    "b = np.array([1, 2, 3, 4, 5, 6, 7, 8, 9, 10])"
   ]
  },
  {
   "cell_type": "code",
   "execution_count": null,
   "id": "5afee5c1",
   "metadata": {
    "scrolled": true
   },
   "outputs": [],
   "source": [
    "type(b)"
   ]
  },
  {
   "cell_type": "code",
   "execution_count": null,
   "id": "d64cb8c0",
   "metadata": {},
   "outputs": [],
   "source": [
    "# Exercise 1 Make a variable called sum_of_a to hold the sum of all the numbers in above list."
   ]
  },
  {
   "cell_type": "code",
   "execution_count": null,
   "id": "930b7b7e",
   "metadata": {},
   "outputs": [],
   "source": [
    "sum_of_b = np.sum(b)"
   ]
  },
  {
   "cell_type": "code",
   "execution_count": null,
   "id": "c237295e",
   "metadata": {},
   "outputs": [],
   "source": [
    "sum_of_b"
   ]
  },
  {
   "cell_type": "code",
   "execution_count": null,
   "id": "fb6b8679",
   "metadata": {},
   "outputs": [],
   "source": [
    "# Exercise 2 Make a variable named min_of_a to hold the minimum of all the numbers in the above list"
   ]
  },
  {
   "cell_type": "code",
   "execution_count": null,
   "id": "95d7f5b6",
   "metadata": {},
   "outputs": [],
   "source": [
    "min_of_b = np.min(b)"
   ]
  },
  {
   "cell_type": "code",
   "execution_count": null,
   "id": "4d2fa764",
   "metadata": {
    "scrolled": true
   },
   "outputs": [],
   "source": [
    "min_of_b"
   ]
  },
  {
   "cell_type": "code",
   "execution_count": null,
   "id": "3fe20512",
   "metadata": {},
   "outputs": [],
   "source": [
    "# Exercise 3 - Make a variable named max_of_a to hold the max number of all the numbers in the above list"
   ]
  },
  {
   "cell_type": "code",
   "execution_count": null,
   "id": "fc9eba20",
   "metadata": {},
   "outputs": [],
   "source": [
    "max_of_b = np.max(b)"
   ]
  },
  {
   "cell_type": "code",
   "execution_count": null,
   "id": "0f3a4da3",
   "metadata": {
    "scrolled": true
   },
   "outputs": [],
   "source": [
    "max_of_b"
   ]
  },
  {
   "cell_type": "code",
   "execution_count": null,
   "id": "e85be524",
   "metadata": {},
   "outputs": [],
   "source": [
    "# Exercise 4 - Make a variable named mean_of_a to hold the average of all the numbers in the above list"
   ]
  },
  {
   "cell_type": "code",
   "execution_count": null,
   "id": "838912e6",
   "metadata": {},
   "outputs": [],
   "source": [
    "mean_of_b = np.mean(b)"
   ]
  },
  {
   "cell_type": "code",
   "execution_count": null,
   "id": "66535053",
   "metadata": {
    "scrolled": true
   },
   "outputs": [],
   "source": [
    "mean_of_b"
   ]
  },
  {
   "cell_type": "code",
   "execution_count": null,
   "id": "deea5b77",
   "metadata": {},
   "outputs": [],
   "source": [
    "# Exercise 5 - Make a variable named product_of_a to hold the product of multiplying all the numbers in the above list together"
   ]
  },
  {
   "cell_type": "code",
   "execution_count": null,
   "id": "375651dd",
   "metadata": {},
   "outputs": [],
   "source": [
    "product_of_b = np.prod(b)"
   ]
  },
  {
   "cell_type": "code",
   "execution_count": null,
   "id": "91e47cae",
   "metadata": {
    "scrolled": true
   },
   "outputs": [],
   "source": [
    "product_of_b"
   ]
  },
  {
   "cell_type": "code",
   "execution_count": null,
   "id": "1fd8f120",
   "metadata": {},
   "outputs": [],
   "source": [
    "# Exercise 6 - Make a variable named squares_of_a. It should hold each number in a squared like [1, 4, 9, 16, 25...]"
   ]
  },
  {
   "cell_type": "code",
   "execution_count": null,
   "id": "0b7a4453",
   "metadata": {},
   "outputs": [],
   "source": [
    "squares_of_b = np.square(b)"
   ]
  },
  {
   "cell_type": "code",
   "execution_count": null,
   "id": "09b4c523",
   "metadata": {
    "scrolled": true
   },
   "outputs": [],
   "source": [
    "squares_of_b"
   ]
  },
  {
   "cell_type": "code",
   "execution_count": null,
   "id": "3b139d99",
   "metadata": {},
   "outputs": [],
   "source": [
    "# Exercise 7 - Make a variable named odds_in_a. It should hold only"
   ]
  },
  {
   "cell_type": "code",
   "execution_count": null,
   "id": "b46b272f",
   "metadata": {},
   "outputs": [],
   "source": [
    "remainder = np.mod(b, 2)"
   ]
  },
  {
   "cell_type": "code",
   "execution_count": null,
   "id": "e59030dc",
   "metadata": {},
   "outputs": [],
   "source": [
    "odds_in_b = b[remainder == 1]"
   ]
  },
  {
   "cell_type": "code",
   "execution_count": null,
   "id": "43efb93b",
   "metadata": {
    "scrolled": true
   },
   "outputs": [],
   "source": [
    "odds_in_b"
   ]
  },
  {
   "cell_type": "code",
   "execution_count": null,
   "id": "481b1d4b",
   "metadata": {
    "scrolled": true
   },
   "outputs": [],
   "source": [
    "type(b)"
   ]
  },
  {
   "cell_type": "code",
   "execution_count": null,
   "id": "a85b2b88",
   "metadata": {},
   "outputs": [],
   "source": [
    "# Exercise 8 - Make a variable named evens_in_a. It should hold only the evens."
   ]
  },
  {
   "cell_type": "code",
   "execution_count": null,
   "id": "b10dbf86",
   "metadata": {},
   "outputs": [],
   "source": [
    "no_remainder = np.mod(b, 2)"
   ]
  },
  {
   "cell_type": "code",
   "execution_count": null,
   "id": "f382f42e",
   "metadata": {},
   "outputs": [],
   "source": [
    "evens_in_b = b[no_remainder == 0 ]"
   ]
  },
  {
   "cell_type": "code",
   "execution_count": null,
   "id": "f5f17c59",
   "metadata": {
    "scrolled": true
   },
   "outputs": [],
   "source": [
    "evens_in_b"
   ]
  },
  {
   "cell_type": "code",
   "execution_count": null,
   "id": "ab0e993d",
   "metadata": {},
   "outputs": [],
   "source": [
    "# Set up array"
   ]
  },
  {
   "cell_type": "code",
   "execution_count": null,
   "id": "5f8fce44",
   "metadata": {},
   "outputs": [],
   "source": [
    "c = np.array([\n",
    "    [3, 4, 5],\n",
    "    [6, 7, 8]\n",
    "])"
   ]
  },
  {
   "cell_type": "code",
   "execution_count": null,
   "id": "68c5481c",
   "metadata": {},
   "outputs": [],
   "source": [
    "# Exercise 1 - refactor the following to use numpy. Use sum_of_b as the variable. **Hint, you'll first need to make sure that the \"b\" variable is a numpy array**\n",
    "sum_of_b = 0\n",
    "for row in b:\n",
    "    sum_of_b += sum(row)"
   ]
  },
  {
   "cell_type": "code",
   "execution_count": null,
   "id": "3b307552",
   "metadata": {},
   "outputs": [],
   "source": [
    "sum_of_c = np.sum(c)"
   ]
  },
  {
   "cell_type": "code",
   "execution_count": null,
   "id": "171bd2b3",
   "metadata": {},
   "outputs": [],
   "source": [
    "sum_of_c"
   ]
  },
  {
   "cell_type": "code",
   "execution_count": null,
   "id": "bd0fc6f5",
   "metadata": {
    "scrolled": true
   },
   "outputs": [],
   "source": [
    "type(c)"
   ]
  },
  {
   "cell_type": "code",
   "execution_count": null,
   "id": "e3c29c61",
   "metadata": {},
   "outputs": [],
   "source": [
    "# Exercise 2 - refactor the following to use numpy. \n",
    "min_of_b = min(b[0]) if min(b[0]) <= min(b[1]) else min(b[1])"
   ]
  },
  {
   "cell_type": "code",
   "execution_count": null,
   "id": "507213c3",
   "metadata": {},
   "outputs": [],
   "source": [
    "min_of_c = np.min(c)"
   ]
  },
  {
   "cell_type": "code",
   "execution_count": null,
   "id": "066ae204",
   "metadata": {
    "scrolled": true
   },
   "outputs": [],
   "source": [
    "min_of_c"
   ]
  },
  {
   "cell_type": "code",
   "execution_count": null,
   "id": "72d9cb73",
   "metadata": {},
   "outputs": [],
   "source": [
    "# Exercise 3 - refactor the following maximum calculation to find the answer with numpy.\n",
    "max_of_b = max(b[0]) if max(b[0]) >= max(b[1]) else max(b[1])"
   ]
  },
  {
   "cell_type": "code",
   "execution_count": null,
   "id": "0d56dfd4",
   "metadata": {},
   "outputs": [],
   "source": [
    "max_of_c = np.max(c)"
   ]
  },
  {
   "cell_type": "code",
   "execution_count": null,
   "id": "eb20a5b0",
   "metadata": {
    "scrolled": false
   },
   "outputs": [],
   "source": [
    "max_of_c "
   ]
  },
  {
   "cell_type": "code",
   "execution_count": null,
   "id": "4ed53e29",
   "metadata": {},
   "outputs": [],
   "source": [
    "# Exercise 4 - refactor the following using numpy to find the mean of b\n",
    "mean_of_b = (sum(b[0]) + sum(b[1])) / (len(b[0]) + len(b[1])"
   ]
  },
  {
   "cell_type": "code",
   "execution_count": null,
   "id": "7cdf3f96",
   "metadata": {},
   "outputs": [],
   "source": [
    "mean_of_c = np.mean(c)"
   ]
  },
  {
   "cell_type": "code",
   "execution_count": null,
   "id": "d4178df8",
   "metadata": {
    "scrolled": true
   },
   "outputs": [],
   "source": [
    "mean_of_c"
   ]
  },
  {
   "cell_type": "code",
   "execution_count": null,
   "id": "5fc37742",
   "metadata": {},
   "outputs": [],
   "source": [
    "# Exercise 5 - refactor the following to use numpy for calculating the product of all numbers multiplied together.\n",
    "product_of_b = 1\n",
    "for row in b:\n",
    "    for number in row:\n",
    "        product_of_b *= number"
   ]
  },
  {
   "cell_type": "code",
   "execution_count": null,
   "id": "3e99c823",
   "metadata": {},
   "outputs": [],
   "source": [
    "product_of_c = np.prod(c)"
   ]
  },
  {
   "cell_type": "code",
   "execution_count": null,
   "id": "92c427cf",
   "metadata": {
    "scrolled": true
   },
   "outputs": [],
   "source": [
    "product_of_c"
   ]
  },
  {
   "cell_type": "code",
   "execution_count": null,
   "id": "31bb8c64",
   "metadata": {},
   "outputs": [],
   "source": [
    "# Exercise 6 - refactor the following to use numpy to find the list of squares \n",
    "squares_of_b = []\n",
    "for row in b:\n",
    "    for number in row:\n",
    "        squares_of_b.append(number**2)"
   ]
  },
  {
   "cell_type": "code",
   "execution_count": null,
   "id": "5b233c56",
   "metadata": {},
   "outputs": [],
   "source": [
    "square_of_c = np.square(c)"
   ]
  },
  {
   "cell_type": "code",
   "execution_count": null,
   "id": "7f89e798",
   "metadata": {
    "scrolled": true
   },
   "outputs": [],
   "source": [
    "square_of_c"
   ]
  },
  {
   "cell_type": "code",
   "execution_count": null,
   "id": "50c3c75a",
   "metadata": {},
   "outputs": [],
   "source": [
    "# Exercise 7 - refactor using numpy to determine the odds_in_b\n",
    "odds_in_b = []\n",
    "for row in b:\n",
    "    for number in row:\n",
    "        if(number % 2 != 0):\n",
    "            odds_in_b.append(number)"
   ]
  },
  {
   "cell_type": "code",
   "execution_count": null,
   "id": "d602ddb8",
   "metadata": {},
   "outputs": [],
   "source": [
    "remainder = np.mod(c, 2)"
   ]
  },
  {
   "cell_type": "code",
   "execution_count": null,
   "id": "41151248",
   "metadata": {},
   "outputs": [],
   "source": [
    "odds_in_c = c[remainder == 1]"
   ]
  },
  {
   "cell_type": "code",
   "execution_count": null,
   "id": "c617fa56",
   "metadata": {
    "scrolled": true
   },
   "outputs": [],
   "source": [
    "odds_in_c"
   ]
  },
  {
   "cell_type": "code",
   "execution_count": null,
   "id": "32968655",
   "metadata": {},
   "outputs": [],
   "source": [
    "# Exercise 8 - refactor the following to use numpy to filter only the even numbers\n",
    "evens_in_b = []\n",
    "for row in b:\n",
    "    for number in row:\n",
    "        if(number % 2 == 0):\n",
    "            evens_in_b.append(number)"
   ]
  },
  {
   "cell_type": "code",
   "execution_count": null,
   "id": "5a4d1f62",
   "metadata": {},
   "outputs": [],
   "source": [
    "no_remainder = np.mod(c, 2)"
   ]
  },
  {
   "cell_type": "code",
   "execution_count": null,
   "id": "f8c970e1",
   "metadata": {},
   "outputs": [],
   "source": [
    "evens_in_c = c[no_remainder == 0 ]"
   ]
  },
  {
   "cell_type": "code",
   "execution_count": null,
   "id": "b443ae17",
   "metadata": {
    "scrolled": true
   },
   "outputs": [],
   "source": [
    "evens_in_c"
   ]
  },
  {
   "cell_type": "code",
   "execution_count": null,
   "id": "e4895d1d",
   "metadata": {},
   "outputs": [],
   "source": [
    "# Exercise 9 - print out the shape of the array b."
   ]
  },
  {
   "cell_type": "code",
   "execution_count": null,
   "id": "90112e32",
   "metadata": {
    "scrolled": true
   },
   "outputs": [],
   "source": [
    "c.shape"
   ]
  },
  {
   "cell_type": "code",
   "execution_count": null,
   "id": "c4849b1b",
   "metadata": {},
   "outputs": [],
   "source": [
    "# Exercise 10 - transpose the array b."
   ]
  },
  {
   "cell_type": "code",
   "execution_count": null,
   "id": "a33e76d3",
   "metadata": {},
   "outputs": [],
   "source": [
    "transposed_c = c.transpose()"
   ]
  },
  {
   "cell_type": "code",
   "execution_count": null,
   "id": "f9cb63c0",
   "metadata": {
    "scrolled": true
   },
   "outputs": [],
   "source": [
    "transposed_c"
   ]
  },
  {
   "cell_type": "code",
   "execution_count": null,
   "id": "f7a3f283",
   "metadata": {},
   "outputs": [],
   "source": [
    "# Check shape"
   ]
  },
  {
   "cell_type": "code",
   "execution_count": null,
   "id": "b8daee8a",
   "metadata": {
    "scrolled": false
   },
   "outputs": [],
   "source": [
    "transposed_c.shape"
   ]
  },
  {
   "cell_type": "code",
   "execution_count": null,
   "id": "5fa8715b",
   "metadata": {},
   "outputs": [],
   "source": [
    "# Exercise 11 - reshape the array b to be a single list of 6 numbers. (1 x 6)"
   ]
  },
  {
   "cell_type": "code",
   "execution_count": null,
   "id": "05b4eab5",
   "metadata": {
    "scrolled": true
   },
   "outputs": [],
   "source": [
    "reshaped_c = np.reshape(c, 6)"
   ]
  },
  {
   "cell_type": "code",
   "execution_count": null,
   "id": "499e6d10",
   "metadata": {
    "scrolled": true
   },
   "outputs": [],
   "source": [
    "reshaped_c"
   ]
  },
  {
   "cell_type": "code",
   "execution_count": null,
   "id": "321d7a17",
   "metadata": {},
   "outputs": [],
   "source": [
    "# Exercise 12 - reshape the array b to be a list of 6 lists, each containing only 1 number (6 x 1)"
   ]
  },
  {
   "cell_type": "code",
   "execution_count": null,
   "id": "c529139a",
   "metadata": {},
   "outputs": [],
   "source": [
    "reshape_to_matrix = np.reshape(reshaped_c, (6, 1))"
   ]
  },
  {
   "cell_type": "code",
   "execution_count": null,
   "id": "88b694cd",
   "metadata": {
    "scrolled": true
   },
   "outputs": [],
   "source": [
    "reshape_to_matrix"
   ]
  },
  {
   "cell_type": "code",
   "execution_count": null,
   "id": "8bb2103b",
   "metadata": {},
   "outputs": [],
   "source": [
    "# Check shape"
   ]
  },
  {
   "cell_type": "code",
   "execution_count": null,
   "id": "f4a9087b",
   "metadata": {
    "scrolled": true
   },
   "outputs": [],
   "source": [
    "reshape_to_matrix.shape"
   ]
  },
  {
   "cell_type": "code",
   "execution_count": null,
   "id": "cca63c15",
   "metadata": {
    "scrolled": true
   },
   "outputs": [],
   "source": [
    "type(reshape_to_matrix)"
   ]
  },
  {
   "cell_type": "code",
   "execution_count": null,
   "id": "cbf402d3",
   "metadata": {},
   "outputs": [],
   "source": [
    "# Set up array"
   ]
  },
  {
   "cell_type": "code",
   "execution_count": null,
   "id": "d73aa979",
   "metadata": {},
   "outputs": [],
   "source": [
    "d = np.array([\n",
    "    [1, 2, 3],\n",
    "    [4, 5, 6],\n",
    "    [7, 8, 9]\n",
    "])"
   ]
  },
  {
   "cell_type": "code",
   "execution_count": null,
   "id": "8c0a4d6b",
   "metadata": {},
   "outputs": [],
   "source": [
    "type(d)"
   ]
  },
  {
   "cell_type": "code",
   "execution_count": null,
   "id": "2899a2de",
   "metadata": {
    "scrolled": true
   },
   "outputs": [],
   "source": [
    "d.dtype"
   ]
  },
  {
   "cell_type": "code",
   "execution_count": null,
   "id": "e817fcb5",
   "metadata": {},
   "outputs": [],
   "source": [
    "# Exercise 1 - Find the min, max, sum, and product of c."
   ]
  },
  {
   "cell_type": "code",
   "execution_count": null,
   "id": "d9050a9a",
   "metadata": {
    "scrolled": true
   },
   "outputs": [],
   "source": [
    "d.min()"
   ]
  },
  {
   "cell_type": "code",
   "execution_count": null,
   "id": "69e0ea69",
   "metadata": {},
   "outputs": [],
   "source": [
    "d.max()"
   ]
  },
  {
   "cell_type": "code",
   "execution_count": null,
   "id": "02e93d2b",
   "metadata": {},
   "outputs": [],
   "source": [
    "d.sum()"
   ]
  },
  {
   "cell_type": "code",
   "execution_count": null,
   "id": "cb6e9d17",
   "metadata": {},
   "outputs": [],
   "source": [
    "d.prod()"
   ]
  },
  {
   "cell_type": "code",
   "execution_count": null,
   "id": "d346c484",
   "metadata": {
    "scrolled": true
   },
   "outputs": [],
   "source": [
    "d.sum()"
   ]
  },
  {
   "cell_type": "code",
   "execution_count": null,
   "id": "74ef3719",
   "metadata": {},
   "outputs": [],
   "source": [
    "# Exercise 2 - Determine the standard deviation of c."
   ]
  },
  {
   "cell_type": "code",
   "execution_count": null,
   "id": "d5740c27",
   "metadata": {
    "scrolled": true
   },
   "outputs": [],
   "source": [
    "d.std()"
   ]
  },
  {
   "cell_type": "code",
   "execution_count": null,
   "id": "cde0731d",
   "metadata": {},
   "outputs": [],
   "source": [
    "# Exercise 3 - Determine the variance of c."
   ]
  },
  {
   "cell_type": "code",
   "execution_count": null,
   "id": "4e97b15f",
   "metadata": {
    "scrolled": false
   },
   "outputs": [],
   "source": [
    "d.var()"
   ]
  },
  {
   "cell_type": "code",
   "execution_count": null,
   "id": "b78dd0ca",
   "metadata": {},
   "outputs": [],
   "source": [
    "# Exercise 4 - Print out the shape of the array c"
   ]
  },
  {
   "cell_type": "code",
   "execution_count": null,
   "id": "ab6d7957",
   "metadata": {
    "scrolled": true
   },
   "outputs": [],
   "source": [
    "d.shape"
   ]
  },
  {
   "cell_type": "code",
   "execution_count": null,
   "id": "168fa387",
   "metadata": {},
   "outputs": [],
   "source": [
    "# Exercise 5 - Transpose c and print out transposed result."
   ]
  },
  {
   "cell_type": "code",
   "execution_count": null,
   "id": "36f29279",
   "metadata": {},
   "outputs": [],
   "source": [
    "dt = d.transpose()"
   ]
  },
  {
   "cell_type": "code",
   "execution_count": null,
   "id": "4f9834b8",
   "metadata": {},
   "outputs": [],
   "source": [
    "print(dt)"
   ]
  },
  {
   "cell_type": "code",
   "execution_count": null,
   "id": "9b7e64f7",
   "metadata": {},
   "outputs": [],
   "source": [
    "# Exercise 6 - Get the dot product of the array c with c. "
   ]
  },
  {
   "cell_type": "code",
   "execution_count": null,
   "id": "757cb2c4",
   "metadata": {
    "scrolled": true
   },
   "outputs": [],
   "source": [
    "d.dot(d)"
   ]
  },
  {
   "cell_type": "code",
   "execution_count": null,
   "id": "3960d40f",
   "metadata": {},
   "outputs": [],
   "source": [
    "# Exercise 7 - Write the code necessary to sum up the result of c times c transposed. Answer should be 261"
   ]
  },
  {
   "cell_type": "code",
   "execution_count": null,
   "id": "9c54859c",
   "metadata": {},
   "outputs": [],
   "source": [
    "d_sum_trans = (d * dt)"
   ]
  },
  {
   "cell_type": "code",
   "execution_count": null,
   "id": "1e9e1262",
   "metadata": {
    "scrolled": true
   },
   "outputs": [],
   "source": [
    "d_sum_trans"
   ]
  },
  {
   "cell_type": "code",
   "execution_count": null,
   "id": "063e0c6f",
   "metadata": {
    "scrolled": false
   },
   "outputs": [],
   "source": [
    "d_sum_trans.sum()"
   ]
  },
  {
   "cell_type": "code",
   "execution_count": null,
   "id": "c1728397",
   "metadata": {},
   "outputs": [],
   "source": [
    "# Exercise 8 - Write the code necessary to determine the product of c times c transposed. Answer should be 131681894400."
   ]
  },
  {
   "cell_type": "code",
   "execution_count": null,
   "id": "ac84b76e",
   "metadata": {
    "scrolled": true
   },
   "outputs": [],
   "source": [
    "d_sum_trans.prod()"
   ]
  },
  {
   "cell_type": "code",
   "execution_count": null,
   "id": "56f8d23a",
   "metadata": {},
   "outputs": [],
   "source": [
    "# Set up array"
   ]
  },
  {
   "cell_type": "code",
   "execution_count": null,
   "id": "1e6171b8",
   "metadata": {},
   "outputs": [],
   "source": [
    "e = np.array([\n",
    "    [90, 30, 45, 0, 120, 180],\n",
    "    [45, -90, -30, 270, 90, 0],\n",
    "    [60, 45, -45, 90, -45, 180]\n",
    "])"
   ]
  },
  {
   "cell_type": "code",
   "execution_count": null,
   "id": "edd4912c",
   "metadata": {},
   "outputs": [],
   "source": [
    "#Check shape"
   ]
  },
  {
   "cell_type": "code",
   "execution_count": null,
   "id": "6ac3d68c",
   "metadata": {
    "scrolled": true
   },
   "outputs": [],
   "source": [
    "e.shape"
   ]
  },
  {
   "cell_type": "code",
   "execution_count": null,
   "id": "1586d98f",
   "metadata": {},
   "outputs": [],
   "source": [
    "# Exercise 1 - Find the sine of all the numbers in d"
   ]
  },
  {
   "cell_type": "code",
   "execution_count": null,
   "id": "bb0e1396",
   "metadata": {
    "scrolled": true
   },
   "outputs": [],
   "source": [
    "np.sin(e)"
   ]
  },
  {
   "cell_type": "code",
   "execution_count": null,
   "id": "d966ea1b",
   "metadata": {},
   "outputs": [],
   "source": [
    "# Exercise 2 - Find the cosine of all the numbers in d"
   ]
  },
  {
   "cell_type": "code",
   "execution_count": null,
   "id": "4802c9c6",
   "metadata": {
    "scrolled": false
   },
   "outputs": [],
   "source": [
    "np.cos(e)"
   ]
  },
  {
   "cell_type": "code",
   "execution_count": null,
   "id": "8dd79126",
   "metadata": {},
   "outputs": [],
   "source": [
    "# Exercise 3 - Find the tangent of all the numbers in d"
   ]
  },
  {
   "cell_type": "code",
   "execution_count": null,
   "id": "6568bd09",
   "metadata": {
    "scrolled": true
   },
   "outputs": [],
   "source": [
    "np.tan(e)"
   ]
  },
  {
   "cell_type": "code",
   "execution_count": null,
   "id": "d0ac2e44",
   "metadata": {},
   "outputs": [],
   "source": [
    "# Exercise 4 - Find all the negative numbers in d"
   ]
  },
  {
   "cell_type": "code",
   "execution_count": null,
   "id": "fd9797a7",
   "metadata": {},
   "outputs": [],
   "source": [
    "neg_nums = np.where(e < 0, True, False)"
   ]
  },
  {
   "cell_type": "code",
   "execution_count": null,
   "id": "fb0db875",
   "metadata": {},
   "outputs": [],
   "source": [
    "neg_values = np.count_nonzero(neg_nums)"
   ]
  },
  {
   "cell_type": "code",
   "execution_count": null,
   "id": "43988d9f",
   "metadata": {},
   "outputs": [],
   "source": [
    "neg_view = e[e < 0]"
   ]
  },
  {
   "cell_type": "code",
   "execution_count": null,
   "id": "0822c99e",
   "metadata": {
    "scrolled": true
   },
   "outputs": [],
   "source": [
    "neg_view = e[e < 0]"
   ]
  },
  {
   "cell_type": "code",
   "execution_count": null,
   "id": "4e63f02f",
   "metadata": {},
   "outputs": [],
   "source": [
    "# Exercise 5 - Find all the positive numbers in d"
   ]
  },
  {
   "cell_type": "code",
   "execution_count": null,
   "id": "da667230",
   "metadata": {},
   "outputs": [],
   "source": [
    "print(\"This array has\", neg_values, \"negative numbers.\")"
   ]
  },
  {
   "cell_type": "code",
   "execution_count": null,
   "id": "312abae2",
   "metadata": {},
   "outputs": [],
   "source": [
    "pos_nums = np.where(e > 0, True, False)"
   ]
  },
  {
   "cell_type": "code",
   "execution_count": null,
   "id": "d403ce70",
   "metadata": {},
   "outputs": [],
   "source": [
    "pos_values = np.count_nonzero(pos_nums)"
   ]
  },
  {
   "cell_type": "code",
   "execution_count": null,
   "id": "8ec95c67",
   "metadata": {},
   "outputs": [],
   "source": [
    "pos_view = e[e > 0]"
   ]
  },
  {
   "cell_type": "code",
   "execution_count": null,
   "id": "be96c8e3",
   "metadata": {
    "scrolled": true
   },
   "outputs": [],
   "source": [
    "pos_view"
   ]
  },
  {
   "cell_type": "code",
   "execution_count": null,
   "id": "0ab3c0f5",
   "metadata": {},
   "outputs": [],
   "source": [
    "print(\"This array has\", pos_values, \"postive numbers.\")"
   ]
  },
  {
   "cell_type": "code",
   "execution_count": null,
   "id": "d79d626f",
   "metadata": {},
   "outputs": [],
   "source": [
    "# Exercise 6 - Return an array of only the unique numbers in d."
   ]
  },
  {
   "cell_type": "code",
   "execution_count": null,
   "id": "2c88a084",
   "metadata": {},
   "outputs": [],
   "source": [
    "unique_nums = np.unique(e)"
   ]
  },
  {
   "cell_type": "code",
   "execution_count": null,
   "id": "3f910e89",
   "metadata": {
    "scrolled": true
   },
   "outputs": [],
   "source": [
    "unique_nums"
   ]
  },
  {
   "cell_type": "code",
   "execution_count": null,
   "id": "2fd2f3fb",
   "metadata": {},
   "outputs": [],
   "source": [
    "# Exercise 7 - Determine how many unique numbers there are in d."
   ]
  },
  {
   "cell_type": "code",
   "execution_count": null,
   "id": "726cf263",
   "metadata": {},
   "outputs": [],
   "source": [
    "unique_values = np.count_nonzero(unique_nums)"
   ]
  },
  {
   "cell_type": "code",
   "execution_count": null,
   "id": "291cf680",
   "metadata": {
    "scrolled": true
   },
   "outputs": [],
   "source": [
    "unique_values"
   ]
  },
  {
   "cell_type": "code",
   "execution_count": null,
   "id": "0909b600",
   "metadata": {},
   "outputs": [],
   "source": [
    "# Exercise 8 - Print out the shape of d."
   ]
  },
  {
   "cell_type": "code",
   "execution_count": null,
   "id": "1ec08ecc",
   "metadata": {
    "scrolled": false
   },
   "outputs": [],
   "source": [
    "e.shape"
   ]
  },
  {
   "cell_type": "code",
   "execution_count": null,
   "id": "365f0694",
   "metadata": {},
   "outputs": [],
   "source": [
    "# Exercise 9 - Transpose and then print out the shape of d."
   ]
  },
  {
   "cell_type": "code",
   "execution_count": null,
   "id": "af650968",
   "metadata": {},
   "outputs": [],
   "source": [
    "et = e.transpose()"
   ]
  },
  {
   "cell_type": "code",
   "execution_count": null,
   "id": "63e5e437",
   "metadata": {},
   "outputs": [],
   "source": [
    "print(et)"
   ]
  },
  {
   "cell_type": "code",
   "execution_count": null,
   "id": "bd8f6640",
   "metadata": {},
   "outputs": [],
   "source": [
    "# Exercise 10 - Reshape d into an array of 9 x 2"
   ]
  },
  {
   "cell_type": "code",
   "execution_count": null,
   "id": "8ad08b16",
   "metadata": {},
   "outputs": [],
   "source": [
    "reshape_e = np.reshape(e, (9, 2))"
   ]
  },
  {
   "cell_type": "code",
   "execution_count": null,
   "id": "51d20521",
   "metadata": {
    "scrolled": true
   },
   "outputs": [],
   "source": [
    "reshape_e "
   ]
  }
 ],
 "metadata": {
  "kernelspec": {
   "display_name": "Python 3 (ipykernel)",
   "language": "python",
   "name": "python3"
  },
  "language_info": {
   "codemirror_mode": {
    "name": "ipython",
    "version": 3
   },
   "file_extension": ".py",
   "mimetype": "text/x-python",
   "name": "python",
   "nbconvert_exporter": "python",
   "pygments_lexer": "ipython3",
   "version": "3.10.8"
  }
 },
 "nbformat": 4,
 "nbformat_minor": 5
}
