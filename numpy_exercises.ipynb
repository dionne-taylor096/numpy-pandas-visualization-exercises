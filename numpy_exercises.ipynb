{
 "cells": [
  {
   "cell_type": "code",
   "execution_count": 29,
   "id": "24ef3cfe",
   "metadata": {},
   "outputs": [],
   "source": [
    "import numpy as np"
   ]
  },
  {
   "cell_type": "code",
   "execution_count": 30,
   "id": "11a2114c",
   "metadata": {},
   "outputs": [],
   "source": [
    "# Set up array"
   ]
  },
  {
   "cell_type": "code",
   "execution_count": 31,
   "id": "40bb51e1",
   "metadata": {},
   "outputs": [],
   "source": [
    "a = np.array([4, 10, 12, 23, -2, -1, 0, 0, 0, -6, 3, -7])"
   ]
  },
  {
   "cell_type": "code",
   "execution_count": 32,
   "id": "20437694",
   "metadata": {},
   "outputs": [],
   "source": [
    "neg = np.where(a < 0, True, False)"
   ]
  },
  {
   "cell_type": "code",
   "execution_count": 33,
   "id": "72ac2c4a",
   "metadata": {},
   "outputs": [],
   "source": [
    "neg_values = np.count_nonzero(neg)"
   ]
  },
  {
   "cell_type": "code",
   "execution_count": 34,
   "id": "393d4731",
   "metadata": {},
   "outputs": [
    {
     "name": "stdout",
     "output_type": "stream",
     "text": [
      "This array has 4 negative numbers.\n"
     ]
    }
   ],
   "source": [
    "print(\"This array has\", neg_values, \"negative numbers.\")"
   ]
  },
  {
   "cell_type": "code",
   "execution_count": 35,
   "id": "feff84b6",
   "metadata": {},
   "outputs": [],
   "source": [
    "pos = np.where(a > 0, True, False)"
   ]
  },
  {
   "cell_type": "code",
   "execution_count": 36,
   "id": "04a5d24c",
   "metadata": {},
   "outputs": [],
   "source": [
    "pos_values = np.count_nonzero(pos)"
   ]
  },
  {
   "cell_type": "code",
   "execution_count": 38,
   "id": "825120af",
   "metadata": {},
   "outputs": [
    {
     "name": "stdout",
     "output_type": "stream",
     "text": [
      "This array has 5 positive numbers.\n"
     ]
    }
   ],
   "source": [
    "print(\"This array has\", pos_values, \"positive numbers.\")"
   ]
  },
  {
   "cell_type": "code",
   "execution_count": 39,
   "id": "3ab194cd",
   "metadata": {},
   "outputs": [],
   "source": [
    "pos_even = np.where(a % 2, True, False)"
   ]
  },
  {
   "cell_type": "code",
   "execution_count": 40,
   "id": "322779b2",
   "metadata": {},
   "outputs": [],
   "source": [
    "pos_even_values = np.count_nonzero(pos_even)"
   ]
  },
  {
   "cell_type": "code",
   "execution_count": 41,
   "id": "6b4ca881",
   "metadata": {},
   "outputs": [
    {
     "name": "stdout",
     "output_type": "stream",
     "text": [
      "This array has {4} positive even numbers.\n"
     ]
    }
   ],
   "source": [
    "print(\"This array has\", {pos_even_values}, \"positive even numbers.\")"
   ]
  },
  {
   "cell_type": "code",
   "execution_count": 42,
   "id": "8b456d49",
   "metadata": {},
   "outputs": [],
   "source": [
    "add_3 = np.add(a, 3)"
   ]
  },
  {
   "cell_type": "code",
   "execution_count": 43,
   "id": "144362c7",
   "metadata": {},
   "outputs": [
    {
     "data": {
      "text/plain": [
       "array([ 7, 13, 15, 26,  1,  2,  3,  3,  3, -3,  6, -4])"
      ]
     },
     "execution_count": 43,
     "metadata": {},
     "output_type": "execute_result"
    }
   ],
   "source": [
    "add_3"
   ]
  },
  {
   "cell_type": "code",
   "execution_count": 44,
   "id": "f6a66b02",
   "metadata": {},
   "outputs": [],
   "source": [
    "a_mean = np.mean(a)"
   ]
  },
  {
   "cell_type": "code",
   "execution_count": 45,
   "id": "2d21b273",
   "metadata": {},
   "outputs": [
    {
     "data": {
      "text/plain": [
       "3.0"
      ]
     },
     "execution_count": 45,
     "metadata": {},
     "output_type": "execute_result"
    }
   ],
   "source": [
    "a_mean"
   ]
  },
  {
   "cell_type": "code",
   "execution_count": 46,
   "id": "03657e08",
   "metadata": {},
   "outputs": [],
   "source": [
    "a_squared = np.square(a)"
   ]
  },
  {
   "cell_type": "code",
   "execution_count": 47,
   "id": "92309390",
   "metadata": {},
   "outputs": [
    {
     "data": {
      "text/plain": [
       "array([ 16, 100, 144, 529,   4,   1,   0,   0,   0,  36,   9,  49])"
      ]
     },
     "execution_count": 47,
     "metadata": {},
     "output_type": "execute_result"
    }
   ],
   "source": [
    "a_squared"
   ]
  },
  {
   "cell_type": "code",
   "execution_count": 48,
   "id": "e5b771f8",
   "metadata": {},
   "outputs": [],
   "source": [
    "a_mean = np.mean(a)"
   ]
  },
  {
   "cell_type": "code",
   "execution_count": 49,
   "id": "646a6d96",
   "metadata": {},
   "outputs": [
    {
     "data": {
      "text/plain": [
       "3.0"
      ]
     },
     "execution_count": 49,
     "metadata": {},
     "output_type": "execute_result"
    }
   ],
   "source": [
    "a_mean"
   ]
  },
  {
   "cell_type": "code",
   "execution_count": 65,
   "id": "ba0727c7",
   "metadata": {},
   "outputs": [],
   "source": [
    "new_std = a_squared.std()"
   ]
  },
  {
   "cell_type": "code",
   "execution_count": 66,
   "id": "7b26f6a1",
   "metadata": {},
   "outputs": [
    {
     "data": {
      "text/plain": [
       "144.0243035046516"
      ]
     },
     "execution_count": 66,
     "metadata": {},
     "output_type": "execute_result"
    }
   ],
   "source": [
    "new_std"
   ]
  },
  {
   "cell_type": "code",
   "execution_count": 67,
   "id": "85a6d2ab",
   "metadata": {},
   "outputs": [],
   "source": [
    "a_std = np.std(a)"
   ]
  },
  {
   "cell_type": "code",
   "execution_count": 53,
   "id": "d5dd28c7",
   "metadata": {},
   "outputs": [
    {
     "data": {
      "text/plain": [
       "8.06225774829855"
      ]
     },
     "execution_count": 53,
     "metadata": {},
     "output_type": "execute_result"
    }
   ],
   "source": [
    "a_std"
   ]
  },
  {
   "cell_type": "code",
   "execution_count": 54,
   "id": "940dc2a0",
   "metadata": {},
   "outputs": [],
   "source": [
    "a_subtract = np.subtract(a, 6)"
   ]
  },
  {
   "cell_type": "code",
   "execution_count": 55,
   "id": "020f79ee",
   "metadata": {},
   "outputs": [
    {
     "data": {
      "text/plain": [
       "array([ -2,   4,   6,  17,  -8,  -7,  -6,  -6,  -6, -12,  -3, -13])"
      ]
     },
     "execution_count": 55,
     "metadata": {},
     "output_type": "execute_result"
    }
   ],
   "source": [
    "a_subtract"
   ]
  },
  {
   "cell_type": "code",
   "execution_count": 56,
   "id": "1d1d55ce",
   "metadata": {},
   "outputs": [],
   "source": [
    "def z_score(a, a_mean, a_std):\n",
    "    return (a - a_mean) / a_std"
   ]
  },
  {
   "cell_type": "code",
   "execution_count": 57,
   "id": "c16c47e0",
   "metadata": {},
   "outputs": [
    {
     "name": "stdout",
     "output_type": "stream",
     "text": [
      "3.9.6 (default, Aug  5 2022, 15:21:02) \n",
      "[Clang 14.0.0 (clang-1400.0.29.102)]\n"
     ]
    }
   ],
   "source": [
    "import sys\n",
    "print (sys.version)"
   ]
  },
  {
   "cell_type": "code",
   "execution_count": 58,
   "id": "fd7419cf",
   "metadata": {},
   "outputs": [
    {
     "name": "stdout",
     "output_type": "stream",
     "text": [
      "True\n"
     ]
    }
   ],
   "source": [
    "import statistics\n",
    "print('NormalDist' in dir(statistics))"
   ]
  },
  {
   "cell_type": "code",
   "execution_count": 59,
   "id": "696a5541",
   "metadata": {},
   "outputs": [],
   "source": [
    "test = statistics.NormalDist(6.0, 8.06) "
   ]
  },
  {
   "cell_type": "code",
   "execution_count": 60,
   "id": "9291c296",
   "metadata": {},
   "outputs": [
    {
     "data": {
      "text/plain": [
       "NormalDist(mu=6.0, sigma=8.06)"
      ]
     },
     "execution_count": 60,
     "metadata": {},
     "output_type": "execute_result"
    }
   ],
   "source": [
    "test"
   ]
  },
  {
   "cell_type": "code",
   "execution_count": 61,
   "id": "f0245a66",
   "metadata": {},
   "outputs": [],
   "source": [
    "## z_score = value - mean/std"
   ]
  },
  {
   "cell_type": "code",
   "execution_count": 62,
   "id": "b2cc9e19",
   "metadata": {},
   "outputs": [],
   "source": [
    "z_score = np.divide(np.subtract(a, a_mean), a_std)"
   ]
  },
  {
   "cell_type": "code",
   "execution_count": 63,
   "id": "7f9c2b93",
   "metadata": {
    "scrolled": true
   },
   "outputs": [
    {
     "data": {
      "text/plain": [
       "array([ 0.12403473,  0.86824314,  1.11631261,  2.48069469, -0.62017367,\n",
       "       -0.49613894, -0.3721042 , -0.3721042 , -0.3721042 , -1.11631261,\n",
       "        0.        , -1.24034735])"
      ]
     },
     "execution_count": 63,
     "metadata": {},
     "output_type": "execute_result"
    }
   ],
   "source": [
    "z_score"
   ]
  },
  {
   "cell_type": "code",
   "execution_count": 68,
   "id": "2fbe8f98",
   "metadata": {},
   "outputs": [],
   "source": [
    "# Set up array"
   ]
  },
  {
   "cell_type": "code",
   "execution_count": 69,
   "id": "794e84d4",
   "metadata": {},
   "outputs": [],
   "source": [
    "b = np.array([1, 2, 3, 4, 5, 6, 7, 8, 9, 10])"
   ]
  },
  {
   "cell_type": "code",
   "execution_count": 70,
   "id": "5afee5c1",
   "metadata": {
    "scrolled": true
   },
   "outputs": [
    {
     "data": {
      "text/plain": [
       "numpy.ndarray"
      ]
     },
     "execution_count": 70,
     "metadata": {},
     "output_type": "execute_result"
    }
   ],
   "source": [
    "type(b)"
   ]
  },
  {
   "cell_type": "code",
   "execution_count": 71,
   "id": "d64cb8c0",
   "metadata": {},
   "outputs": [],
   "source": [
    "# Exercise 1 Make a variable called sum_of_a to hold the sum of all the numbers in above list."
   ]
  },
  {
   "cell_type": "code",
   "execution_count": 72,
   "id": "930b7b7e",
   "metadata": {},
   "outputs": [],
   "source": [
    "sum_of_b = np.sum(b)"
   ]
  },
  {
   "cell_type": "code",
   "execution_count": 73,
   "id": "c237295e",
   "metadata": {},
   "outputs": [
    {
     "data": {
      "text/plain": [
       "55"
      ]
     },
     "execution_count": 73,
     "metadata": {},
     "output_type": "execute_result"
    }
   ],
   "source": [
    "sum_of_b"
   ]
  },
  {
   "cell_type": "code",
   "execution_count": 74,
   "id": "fb6b8679",
   "metadata": {},
   "outputs": [],
   "source": [
    "# Exercise 2 Make a variable named min_of_a to hold the minimum of all the numbers in the above list"
   ]
  },
  {
   "cell_type": "code",
   "execution_count": 75,
   "id": "95d7f5b6",
   "metadata": {},
   "outputs": [],
   "source": [
    "min_of_b = np.min(b)"
   ]
  },
  {
   "cell_type": "code",
   "execution_count": 76,
   "id": "4d2fa764",
   "metadata": {
    "scrolled": true
   },
   "outputs": [
    {
     "data": {
      "text/plain": [
       "1"
      ]
     },
     "execution_count": 76,
     "metadata": {},
     "output_type": "execute_result"
    }
   ],
   "source": [
    "min_of_b"
   ]
  },
  {
   "cell_type": "code",
   "execution_count": 77,
   "id": "3fe20512",
   "metadata": {},
   "outputs": [],
   "source": [
    "# Exercise 3 - Make a variable named max_of_a to hold the max number of all the numbers in the above list"
   ]
  },
  {
   "cell_type": "code",
   "execution_count": 78,
   "id": "fc9eba20",
   "metadata": {},
   "outputs": [],
   "source": [
    "max_of_b = np.max(b)"
   ]
  },
  {
   "cell_type": "code",
   "execution_count": 79,
   "id": "0f3a4da3",
   "metadata": {
    "scrolled": true
   },
   "outputs": [
    {
     "data": {
      "text/plain": [
       "10"
      ]
     },
     "execution_count": 79,
     "metadata": {},
     "output_type": "execute_result"
    }
   ],
   "source": [
    "max_of_b"
   ]
  },
  {
   "cell_type": "code",
   "execution_count": 80,
   "id": "e85be524",
   "metadata": {},
   "outputs": [],
   "source": [
    "# Exercise 4 - Make a variable named mean_of_a to hold the average of all the numbers in the above list"
   ]
  },
  {
   "cell_type": "code",
   "execution_count": 81,
   "id": "838912e6",
   "metadata": {},
   "outputs": [],
   "source": [
    "mean_of_b = np.mean(b)"
   ]
  },
  {
   "cell_type": "code",
   "execution_count": 82,
   "id": "66535053",
   "metadata": {
    "scrolled": true
   },
   "outputs": [
    {
     "data": {
      "text/plain": [
       "5.5"
      ]
     },
     "execution_count": 82,
     "metadata": {},
     "output_type": "execute_result"
    }
   ],
   "source": [
    "mean_of_b"
   ]
  },
  {
   "cell_type": "code",
   "execution_count": 83,
   "id": "deea5b77",
   "metadata": {},
   "outputs": [],
   "source": [
    "# Exercise 5 - Make a variable named product_of_a to hold the product of multiplying all the numbers in the above list together"
   ]
  },
  {
   "cell_type": "code",
   "execution_count": 84,
   "id": "375651dd",
   "metadata": {},
   "outputs": [],
   "source": [
    "product_of_b = np.prod(b)"
   ]
  },
  {
   "cell_type": "code",
   "execution_count": 85,
   "id": "91e47cae",
   "metadata": {
    "scrolled": true
   },
   "outputs": [
    {
     "data": {
      "text/plain": [
       "3628800"
      ]
     },
     "execution_count": 85,
     "metadata": {},
     "output_type": "execute_result"
    }
   ],
   "source": [
    "product_of_b"
   ]
  },
  {
   "cell_type": "code",
   "execution_count": 86,
   "id": "1fd8f120",
   "metadata": {},
   "outputs": [],
   "source": [
    "# Exercise 6 - Make a variable named squares_of_a. It should hold each number in a squared like [1, 4, 9, 16, 25...]"
   ]
  },
  {
   "cell_type": "code",
   "execution_count": 87,
   "id": "0b7a4453",
   "metadata": {},
   "outputs": [],
   "source": [
    "squares_of_b = np.square(b)"
   ]
  },
  {
   "cell_type": "code",
   "execution_count": 88,
   "id": "09b4c523",
   "metadata": {
    "scrolled": true
   },
   "outputs": [
    {
     "data": {
      "text/plain": [
       "array([  1,   4,   9,  16,  25,  36,  49,  64,  81, 100])"
      ]
     },
     "execution_count": 88,
     "metadata": {},
     "output_type": "execute_result"
    }
   ],
   "source": [
    "squares_of_b"
   ]
  },
  {
   "cell_type": "code",
   "execution_count": 89,
   "id": "3b139d99",
   "metadata": {},
   "outputs": [],
   "source": [
    "# Exercise 7 - Make a variable named odds_in_a. It should hold only"
   ]
  },
  {
   "cell_type": "code",
   "execution_count": 90,
   "id": "b46b272f",
   "metadata": {},
   "outputs": [],
   "source": [
    "remainder = np.mod(b, 2)"
   ]
  },
  {
   "cell_type": "code",
   "execution_count": 95,
   "id": "e59030dc",
   "metadata": {},
   "outputs": [],
   "source": [
    "odds_in_b = b[remainder == 1]"
   ]
  },
  {
   "cell_type": "code",
   "execution_count": 96,
   "id": "43efb93b",
   "metadata": {
    "scrolled": true
   },
   "outputs": [
    {
     "data": {
      "text/plain": [
       "array([1, 3, 5, 7, 9])"
      ]
     },
     "execution_count": 96,
     "metadata": {},
     "output_type": "execute_result"
    }
   ],
   "source": [
    "odds_in_b"
   ]
  },
  {
   "cell_type": "code",
   "execution_count": 97,
   "id": "481b1d4b",
   "metadata": {
    "scrolled": true
   },
   "outputs": [
    {
     "data": {
      "text/plain": [
       "numpy.ndarray"
      ]
     },
     "execution_count": 97,
     "metadata": {},
     "output_type": "execute_result"
    }
   ],
   "source": [
    "type(b)"
   ]
  },
  {
   "cell_type": "code",
   "execution_count": 98,
   "id": "a85b2b88",
   "metadata": {},
   "outputs": [],
   "source": [
    "# Exercise 8 - Make a variable named evens_in_a. It should hold only the evens."
   ]
  },
  {
   "cell_type": "code",
   "execution_count": 99,
   "id": "b10dbf86",
   "metadata": {},
   "outputs": [],
   "source": [
    "no_remainder = np.mod(b, 2)"
   ]
  },
  {
   "cell_type": "code",
   "execution_count": 100,
   "id": "f382f42e",
   "metadata": {},
   "outputs": [],
   "source": [
    "evens_in_b = b[no_remainder == 0 ]"
   ]
  },
  {
   "cell_type": "code",
   "execution_count": 101,
   "id": "f5f17c59",
   "metadata": {
    "scrolled": true
   },
   "outputs": [
    {
     "data": {
      "text/plain": [
       "array([ 2,  4,  6,  8, 10])"
      ]
     },
     "execution_count": 101,
     "metadata": {},
     "output_type": "execute_result"
    }
   ],
   "source": [
    "evens_in_b"
   ]
  },
  {
   "cell_type": "code",
   "execution_count": 102,
   "id": "ab0e993d",
   "metadata": {},
   "outputs": [],
   "source": [
    "# Set up array"
   ]
  },
  {
   "cell_type": "code",
   "execution_count": 103,
   "id": "5f8fce44",
   "metadata": {},
   "outputs": [],
   "source": [
    "c = np.array([\n",
    "    [3, 4, 5],\n",
    "    [6, 7, 8]\n",
    "])"
   ]
  },
  {
   "cell_type": "code",
   "execution_count": 104,
   "id": "68c5481c",
   "metadata": {},
   "outputs": [],
   "source": [
    "# Exercise 1 - refactor the following to use numpy. Use sum_of_b as the variable. **Hint, you'll first need to make sure that the \"b\" variable is a numpy array**\n",
    "# sum_of_b = 0\n",
    "# for row in b:\n",
    "#    sum_of_b += sum(row)"
   ]
  },
  {
   "cell_type": "code",
   "execution_count": 105,
   "id": "3b307552",
   "metadata": {},
   "outputs": [],
   "source": [
    "sum_of_c = np.sum(c)"
   ]
  },
  {
   "cell_type": "code",
   "execution_count": 106,
   "id": "171bd2b3",
   "metadata": {},
   "outputs": [
    {
     "data": {
      "text/plain": [
       "33"
      ]
     },
     "execution_count": 106,
     "metadata": {},
     "output_type": "execute_result"
    }
   ],
   "source": [
    "sum_of_c"
   ]
  },
  {
   "cell_type": "code",
   "execution_count": 107,
   "id": "bd0fc6f5",
   "metadata": {
    "scrolled": true
   },
   "outputs": [
    {
     "data": {
      "text/plain": [
       "numpy.ndarray"
      ]
     },
     "execution_count": 107,
     "metadata": {},
     "output_type": "execute_result"
    }
   ],
   "source": [
    "type(c)"
   ]
  },
  {
   "cell_type": "code",
   "execution_count": 108,
   "id": "e3c29c61",
   "metadata": {},
   "outputs": [],
   "source": [
    "# Exercise 2 - refactor the following to use numpy. \n",
    "# min_of_b = min(b[0]) if min(b[0]) <= min(b[1]) else min(b[1])"
   ]
  },
  {
   "cell_type": "code",
   "execution_count": 109,
   "id": "507213c3",
   "metadata": {},
   "outputs": [],
   "source": [
    "min_of_c = np.min(c)"
   ]
  },
  {
   "cell_type": "code",
   "execution_count": 110,
   "id": "066ae204",
   "metadata": {
    "scrolled": true
   },
   "outputs": [
    {
     "data": {
      "text/plain": [
       "3"
      ]
     },
     "execution_count": 110,
     "metadata": {},
     "output_type": "execute_result"
    }
   ],
   "source": [
    "min_of_c"
   ]
  },
  {
   "cell_type": "code",
   "execution_count": 111,
   "id": "72d9cb73",
   "metadata": {},
   "outputs": [],
   "source": [
    "# Exercise 3 - refactor the following maximum calculation to find the answer with numpy.\n",
    "# max_of_b = max(b[0]) if max(b[0]) >= max(b[1]) else max(b[1])"
   ]
  },
  {
   "cell_type": "code",
   "execution_count": 112,
   "id": "0d56dfd4",
   "metadata": {},
   "outputs": [],
   "source": [
    "max_of_c = np.max(c)"
   ]
  },
  {
   "cell_type": "code",
   "execution_count": 113,
   "id": "eb20a5b0",
   "metadata": {
    "scrolled": false
   },
   "outputs": [
    {
     "data": {
      "text/plain": [
       "8"
      ]
     },
     "execution_count": 113,
     "metadata": {},
     "output_type": "execute_result"
    }
   ],
   "source": [
    "max_of_c "
   ]
  },
  {
   "cell_type": "code",
   "execution_count": 114,
   "id": "4ed53e29",
   "metadata": {},
   "outputs": [],
   "source": [
    "# Exercise 4 - refactor the following using numpy to find the mean of b\n",
    "# mean_of_b = (sum(b[0]) + sum(b[1])) / (len(b[0]) + len(b[1])"
   ]
  },
  {
   "cell_type": "code",
   "execution_count": 115,
   "id": "7cdf3f96",
   "metadata": {},
   "outputs": [],
   "source": [
    "mean_of_c = np.mean(c)"
   ]
  },
  {
   "cell_type": "code",
   "execution_count": 116,
   "id": "d4178df8",
   "metadata": {
    "scrolled": true
   },
   "outputs": [
    {
     "data": {
      "text/plain": [
       "5.5"
      ]
     },
     "execution_count": 116,
     "metadata": {},
     "output_type": "execute_result"
    }
   ],
   "source": [
    "mean_of_c"
   ]
  },
  {
   "cell_type": "code",
   "execution_count": 117,
   "id": "5fc37742",
   "metadata": {},
   "outputs": [],
   "source": [
    "# Exercise 5 - refactor the following to use numpy for calculating the product of all numbers multiplied together.\n",
    "# product_of_b = 1\n",
    "# for row in b:\n",
    "#    for number in row:\n",
    "#        product_of_b *= number"
   ]
  },
  {
   "cell_type": "code",
   "execution_count": 118,
   "id": "3e99c823",
   "metadata": {},
   "outputs": [],
   "source": [
    "product_of_c = np.prod(c)"
   ]
  },
  {
   "cell_type": "code",
   "execution_count": 119,
   "id": "92c427cf",
   "metadata": {
    "scrolled": true
   },
   "outputs": [
    {
     "data": {
      "text/plain": [
       "20160"
      ]
     },
     "execution_count": 119,
     "metadata": {},
     "output_type": "execute_result"
    }
   ],
   "source": [
    "product_of_c"
   ]
  },
  {
   "cell_type": "code",
   "execution_count": 120,
   "id": "31bb8c64",
   "metadata": {},
   "outputs": [],
   "source": [
    "# Exercise 6 - refactor the following to use numpy to find the list of squares \n",
    "# squares_of_b = []\n",
    "# for row in b:\n",
    "#    for number in row:\n",
    "#        squares_of_b.append(number**2)"
   ]
  },
  {
   "cell_type": "code",
   "execution_count": 121,
   "id": "5b233c56",
   "metadata": {},
   "outputs": [],
   "source": [
    "square_of_c = np.square(c)"
   ]
  },
  {
   "cell_type": "code",
   "execution_count": 122,
   "id": "7f89e798",
   "metadata": {
    "scrolled": true
   },
   "outputs": [
    {
     "data": {
      "text/plain": [
       "array([[ 9, 16, 25],\n",
       "       [36, 49, 64]])"
      ]
     },
     "execution_count": 122,
     "metadata": {},
     "output_type": "execute_result"
    }
   ],
   "source": [
    "square_of_c"
   ]
  },
  {
   "cell_type": "code",
   "execution_count": 123,
   "id": "50c3c75a",
   "metadata": {},
   "outputs": [],
   "source": [
    "# Exercise 7 - refactor using numpy to determine the odds_in_b\n",
    "# odds_in_b = []\n",
    "# for row in b:\n",
    "#    for number in row:\n",
    "#        if(number % 2 != 0):\n",
    "#           odds_in_b.append(number)"
   ]
  },
  {
   "cell_type": "code",
   "execution_count": 124,
   "id": "d602ddb8",
   "metadata": {},
   "outputs": [],
   "source": [
    "remainder = np.mod(c, 2)"
   ]
  },
  {
   "cell_type": "code",
   "execution_count": 125,
   "id": "41151248",
   "metadata": {},
   "outputs": [],
   "source": [
    "odds_in_c = c[remainder == 1]"
   ]
  },
  {
   "cell_type": "code",
   "execution_count": 126,
   "id": "c617fa56",
   "metadata": {
    "scrolled": true
   },
   "outputs": [
    {
     "data": {
      "text/plain": [
       "array([3, 5, 7])"
      ]
     },
     "execution_count": 126,
     "metadata": {},
     "output_type": "execute_result"
    }
   ],
   "source": [
    "odds_in_c"
   ]
  },
  {
   "cell_type": "code",
   "execution_count": 127,
   "id": "32968655",
   "metadata": {},
   "outputs": [],
   "source": [
    "# Exercise 8 - refactor the following to use numpy to filter only the even numbers\n",
    "# evens_in_b = []\n",
    "# for row in b:\n",
    "#    for number in row:\n",
    "#        if(number % 2 == 0):\n",
    "#            evens_in_b.append(number)"
   ]
  },
  {
   "cell_type": "code",
   "execution_count": 128,
   "id": "5a4d1f62",
   "metadata": {},
   "outputs": [],
   "source": [
    "no_remainder = np.mod(c, 2)"
   ]
  },
  {
   "cell_type": "code",
   "execution_count": 129,
   "id": "f8c970e1",
   "metadata": {},
   "outputs": [],
   "source": [
    "evens_in_c = c[no_remainder == 0 ]"
   ]
  },
  {
   "cell_type": "code",
   "execution_count": 130,
   "id": "b443ae17",
   "metadata": {
    "scrolled": true
   },
   "outputs": [
    {
     "data": {
      "text/plain": [
       "array([4, 6, 8])"
      ]
     },
     "execution_count": 130,
     "metadata": {},
     "output_type": "execute_result"
    }
   ],
   "source": [
    "evens_in_c"
   ]
  },
  {
   "cell_type": "code",
   "execution_count": 131,
   "id": "e4895d1d",
   "metadata": {},
   "outputs": [],
   "source": [
    "# Exercise 9 - print out the shape of the array b."
   ]
  },
  {
   "cell_type": "code",
   "execution_count": 132,
   "id": "90112e32",
   "metadata": {
    "scrolled": true
   },
   "outputs": [
    {
     "data": {
      "text/plain": [
       "(2, 3)"
      ]
     },
     "execution_count": 132,
     "metadata": {},
     "output_type": "execute_result"
    }
   ],
   "source": [
    "c.shape"
   ]
  },
  {
   "cell_type": "code",
   "execution_count": 133,
   "id": "c4849b1b",
   "metadata": {},
   "outputs": [],
   "source": [
    "# Exercise 10 - transpose the array b."
   ]
  },
  {
   "cell_type": "code",
   "execution_count": 134,
   "id": "a33e76d3",
   "metadata": {},
   "outputs": [],
   "source": [
    "transposed_c = c.transpose()"
   ]
  },
  {
   "cell_type": "code",
   "execution_count": 135,
   "id": "f9cb63c0",
   "metadata": {
    "scrolled": true
   },
   "outputs": [
    {
     "data": {
      "text/plain": [
       "array([[3, 6],\n",
       "       [4, 7],\n",
       "       [5, 8]])"
      ]
     },
     "execution_count": 135,
     "metadata": {},
     "output_type": "execute_result"
    }
   ],
   "source": [
    "transposed_c"
   ]
  },
  {
   "cell_type": "code",
   "execution_count": 136,
   "id": "f7a3f283",
   "metadata": {},
   "outputs": [],
   "source": [
    "# Check shape"
   ]
  },
  {
   "cell_type": "code",
   "execution_count": 137,
   "id": "b8daee8a",
   "metadata": {
    "scrolled": false
   },
   "outputs": [
    {
     "data": {
      "text/plain": [
       "(3, 2)"
      ]
     },
     "execution_count": 137,
     "metadata": {},
     "output_type": "execute_result"
    }
   ],
   "source": [
    "transposed_c.shape"
   ]
  },
  {
   "cell_type": "code",
   "execution_count": 138,
   "id": "5fa8715b",
   "metadata": {},
   "outputs": [],
   "source": [
    "# Exercise 11 - reshape the array b to be a single list of 6 numbers. (1 x 6)"
   ]
  },
  {
   "cell_type": "code",
   "execution_count": 139,
   "id": "05b4eab5",
   "metadata": {
    "scrolled": true
   },
   "outputs": [],
   "source": [
    "reshaped_c = np.reshape(c, 6)"
   ]
  },
  {
   "cell_type": "code",
   "execution_count": 140,
   "id": "499e6d10",
   "metadata": {
    "scrolled": true
   },
   "outputs": [
    {
     "data": {
      "text/plain": [
       "array([3, 4, 5, 6, 7, 8])"
      ]
     },
     "execution_count": 140,
     "metadata": {},
     "output_type": "execute_result"
    }
   ],
   "source": [
    "reshaped_c"
   ]
  },
  {
   "cell_type": "code",
   "execution_count": 141,
   "id": "321d7a17",
   "metadata": {},
   "outputs": [],
   "source": [
    "# Exercise 12 - reshape the array b to be a list of 6 lists, each containing only 1 number (6 x 1)"
   ]
  },
  {
   "cell_type": "code",
   "execution_count": 142,
   "id": "c529139a",
   "metadata": {},
   "outputs": [],
   "source": [
    "reshape_to_matrix = np.reshape(reshaped_c, (6, 1))"
   ]
  },
  {
   "cell_type": "code",
   "execution_count": 143,
   "id": "88b694cd",
   "metadata": {
    "scrolled": true
   },
   "outputs": [
    {
     "data": {
      "text/plain": [
       "array([[3],\n",
       "       [4],\n",
       "       [5],\n",
       "       [6],\n",
       "       [7],\n",
       "       [8]])"
      ]
     },
     "execution_count": 143,
     "metadata": {},
     "output_type": "execute_result"
    }
   ],
   "source": [
    "reshape_to_matrix"
   ]
  },
  {
   "cell_type": "code",
   "execution_count": 144,
   "id": "8bb2103b",
   "metadata": {},
   "outputs": [],
   "source": [
    "# Check shape"
   ]
  },
  {
   "cell_type": "code",
   "execution_count": 145,
   "id": "f4a9087b",
   "metadata": {
    "scrolled": true
   },
   "outputs": [
    {
     "data": {
      "text/plain": [
       "(6, 1)"
      ]
     },
     "execution_count": 145,
     "metadata": {},
     "output_type": "execute_result"
    }
   ],
   "source": [
    "reshape_to_matrix.shape"
   ]
  },
  {
   "cell_type": "code",
   "execution_count": 146,
   "id": "cca63c15",
   "metadata": {
    "scrolled": true
   },
   "outputs": [
    {
     "data": {
      "text/plain": [
       "numpy.ndarray"
      ]
     },
     "execution_count": 146,
     "metadata": {},
     "output_type": "execute_result"
    }
   ],
   "source": [
    "type(reshape_to_matrix)"
   ]
  },
  {
   "cell_type": "code",
   "execution_count": 147,
   "id": "cbf402d3",
   "metadata": {},
   "outputs": [],
   "source": [
    "# Set up array"
   ]
  },
  {
   "cell_type": "code",
   "execution_count": 148,
   "id": "d73aa979",
   "metadata": {},
   "outputs": [],
   "source": [
    "d = np.array([\n",
    "    [1, 2, 3],\n",
    "    [4, 5, 6],\n",
    "    [7, 8, 9]\n",
    "])"
   ]
  },
  {
   "cell_type": "code",
   "execution_count": 149,
   "id": "8c0a4d6b",
   "metadata": {},
   "outputs": [
    {
     "data": {
      "text/plain": [
       "numpy.ndarray"
      ]
     },
     "execution_count": 149,
     "metadata": {},
     "output_type": "execute_result"
    }
   ],
   "source": [
    "type(d)"
   ]
  },
  {
   "cell_type": "code",
   "execution_count": 150,
   "id": "2899a2de",
   "metadata": {
    "scrolled": true
   },
   "outputs": [
    {
     "data": {
      "text/plain": [
       "dtype('int64')"
      ]
     },
     "execution_count": 150,
     "metadata": {},
     "output_type": "execute_result"
    }
   ],
   "source": [
    "d.dtype"
   ]
  },
  {
   "cell_type": "code",
   "execution_count": 151,
   "id": "e817fcb5",
   "metadata": {},
   "outputs": [],
   "source": [
    "# Exercise 1 - Find the min, max, sum, and product of c."
   ]
  },
  {
   "cell_type": "code",
   "execution_count": 152,
   "id": "d9050a9a",
   "metadata": {
    "scrolled": true
   },
   "outputs": [
    {
     "data": {
      "text/plain": [
       "1"
      ]
     },
     "execution_count": 152,
     "metadata": {},
     "output_type": "execute_result"
    }
   ],
   "source": [
    "d.min()"
   ]
  },
  {
   "cell_type": "code",
   "execution_count": 153,
   "id": "69e0ea69",
   "metadata": {},
   "outputs": [
    {
     "data": {
      "text/plain": [
       "9"
      ]
     },
     "execution_count": 153,
     "metadata": {},
     "output_type": "execute_result"
    }
   ],
   "source": [
    "d.max()"
   ]
  },
  {
   "cell_type": "code",
   "execution_count": 154,
   "id": "02e93d2b",
   "metadata": {},
   "outputs": [
    {
     "data": {
      "text/plain": [
       "45"
      ]
     },
     "execution_count": 154,
     "metadata": {},
     "output_type": "execute_result"
    }
   ],
   "source": [
    "d.sum()"
   ]
  },
  {
   "cell_type": "code",
   "execution_count": 155,
   "id": "cb6e9d17",
   "metadata": {},
   "outputs": [
    {
     "data": {
      "text/plain": [
       "362880"
      ]
     },
     "execution_count": 155,
     "metadata": {},
     "output_type": "execute_result"
    }
   ],
   "source": [
    "d.prod()"
   ]
  },
  {
   "cell_type": "code",
   "execution_count": 156,
   "id": "d346c484",
   "metadata": {
    "scrolled": true
   },
   "outputs": [
    {
     "data": {
      "text/plain": [
       "45"
      ]
     },
     "execution_count": 156,
     "metadata": {},
     "output_type": "execute_result"
    }
   ],
   "source": [
    "d.sum()"
   ]
  },
  {
   "cell_type": "code",
   "execution_count": 157,
   "id": "74ef3719",
   "metadata": {},
   "outputs": [],
   "source": [
    "# Exercise 2 - Determine the standard deviation of c."
   ]
  },
  {
   "cell_type": "code",
   "execution_count": 158,
   "id": "d5740c27",
   "metadata": {
    "scrolled": true
   },
   "outputs": [
    {
     "data": {
      "text/plain": [
       "2.581988897471611"
      ]
     },
     "execution_count": 158,
     "metadata": {},
     "output_type": "execute_result"
    }
   ],
   "source": [
    "d.std()"
   ]
  },
  {
   "cell_type": "code",
   "execution_count": 159,
   "id": "cde0731d",
   "metadata": {},
   "outputs": [],
   "source": [
    "# Exercise 3 - Determine the variance of c."
   ]
  },
  {
   "cell_type": "code",
   "execution_count": 160,
   "id": "4e97b15f",
   "metadata": {
    "scrolled": false
   },
   "outputs": [
    {
     "data": {
      "text/plain": [
       "6.666666666666667"
      ]
     },
     "execution_count": 160,
     "metadata": {},
     "output_type": "execute_result"
    }
   ],
   "source": [
    "d.var()"
   ]
  },
  {
   "cell_type": "code",
   "execution_count": 161,
   "id": "b78dd0ca",
   "metadata": {},
   "outputs": [],
   "source": [
    "# Exercise 4 - Print out the shape of the array c"
   ]
  },
  {
   "cell_type": "code",
   "execution_count": 162,
   "id": "ab6d7957",
   "metadata": {
    "scrolled": true
   },
   "outputs": [
    {
     "data": {
      "text/plain": [
       "(3, 3)"
      ]
     },
     "execution_count": 162,
     "metadata": {},
     "output_type": "execute_result"
    }
   ],
   "source": [
    "d.shape"
   ]
  },
  {
   "cell_type": "code",
   "execution_count": 163,
   "id": "168fa387",
   "metadata": {},
   "outputs": [],
   "source": [
    "# Exercise 5 - Transpose c and print out transposed result."
   ]
  },
  {
   "cell_type": "code",
   "execution_count": 164,
   "id": "36f29279",
   "metadata": {},
   "outputs": [],
   "source": [
    "dt = d.transpose()"
   ]
  },
  {
   "cell_type": "code",
   "execution_count": 165,
   "id": "4f9834b8",
   "metadata": {},
   "outputs": [
    {
     "name": "stdout",
     "output_type": "stream",
     "text": [
      "[[1 4 7]\n",
      " [2 5 8]\n",
      " [3 6 9]]\n"
     ]
    }
   ],
   "source": [
    "print(dt)"
   ]
  },
  {
   "cell_type": "code",
   "execution_count": 166,
   "id": "9b7e64f7",
   "metadata": {},
   "outputs": [],
   "source": [
    "# Exercise 6 - Get the dot product of the array c with c. "
   ]
  },
  {
   "cell_type": "code",
   "execution_count": 167,
   "id": "757cb2c4",
   "metadata": {
    "scrolled": true
   },
   "outputs": [
    {
     "data": {
      "text/plain": [
       "array([[ 30,  36,  42],\n",
       "       [ 66,  81,  96],\n",
       "       [102, 126, 150]])"
      ]
     },
     "execution_count": 167,
     "metadata": {},
     "output_type": "execute_result"
    }
   ],
   "source": [
    "d.dot(d)"
   ]
  },
  {
   "cell_type": "code",
   "execution_count": 168,
   "id": "3960d40f",
   "metadata": {},
   "outputs": [],
   "source": [
    "# Exercise 7 - Write the code necessary to sum up the result of c times c transposed. Answer should be 261"
   ]
  },
  {
   "cell_type": "code",
   "execution_count": 169,
   "id": "9c54859c",
   "metadata": {},
   "outputs": [],
   "source": [
    "d_sum_trans = (d * dt)"
   ]
  },
  {
   "cell_type": "code",
   "execution_count": 170,
   "id": "1e9e1262",
   "metadata": {
    "scrolled": true
   },
   "outputs": [
    {
     "data": {
      "text/plain": [
       "array([[ 1,  8, 21],\n",
       "       [ 8, 25, 48],\n",
       "       [21, 48, 81]])"
      ]
     },
     "execution_count": 170,
     "metadata": {},
     "output_type": "execute_result"
    }
   ],
   "source": [
    "d_sum_trans"
   ]
  },
  {
   "cell_type": "code",
   "execution_count": 171,
   "id": "063e0c6f",
   "metadata": {
    "scrolled": false
   },
   "outputs": [
    {
     "data": {
      "text/plain": [
       "261"
      ]
     },
     "execution_count": 171,
     "metadata": {},
     "output_type": "execute_result"
    }
   ],
   "source": [
    "d_sum_trans.sum()"
   ]
  },
  {
   "cell_type": "code",
   "execution_count": 172,
   "id": "c1728397",
   "metadata": {},
   "outputs": [],
   "source": [
    "# Exercise 8 - Write the code necessary to determine the product of c times c transposed. Answer should be 131681894400."
   ]
  },
  {
   "cell_type": "code",
   "execution_count": 173,
   "id": "ac84b76e",
   "metadata": {
    "scrolled": true
   },
   "outputs": [
    {
     "data": {
      "text/plain": [
       "131681894400"
      ]
     },
     "execution_count": 173,
     "metadata": {},
     "output_type": "execute_result"
    }
   ],
   "source": [
    "d_sum_trans.prod()"
   ]
  },
  {
   "cell_type": "code",
   "execution_count": 174,
   "id": "56f8d23a",
   "metadata": {},
   "outputs": [],
   "source": [
    "# Set up array"
   ]
  },
  {
   "cell_type": "code",
   "execution_count": 175,
   "id": "1e6171b8",
   "metadata": {},
   "outputs": [],
   "source": [
    "e = np.array([\n",
    "    [90, 30, 45, 0, 120, 180],\n",
    "    [45, -90, -30, 270, 90, 0],\n",
    "    [60, 45, -45, 90, -45, 180]\n",
    "])"
   ]
  },
  {
   "cell_type": "code",
   "execution_count": 176,
   "id": "edd4912c",
   "metadata": {},
   "outputs": [],
   "source": [
    "#Check shape"
   ]
  },
  {
   "cell_type": "code",
   "execution_count": 177,
   "id": "6ac3d68c",
   "metadata": {
    "scrolled": true
   },
   "outputs": [
    {
     "data": {
      "text/plain": [
       "(3, 6)"
      ]
     },
     "execution_count": 177,
     "metadata": {},
     "output_type": "execute_result"
    }
   ],
   "source": [
    "e.shape"
   ]
  },
  {
   "cell_type": "code",
   "execution_count": 178,
   "id": "1586d98f",
   "metadata": {},
   "outputs": [],
   "source": [
    "# Exercise 1 - Find the sine of all the numbers in d"
   ]
  },
  {
   "cell_type": "code",
   "execution_count": 179,
   "id": "bb0e1396",
   "metadata": {
    "scrolled": true
   },
   "outputs": [
    {
     "data": {
      "text/plain": [
       "array([[ 0.89399666, -0.98803162,  0.85090352,  0.        ,  0.58061118,\n",
       "        -0.80115264],\n",
       "       [ 0.85090352, -0.89399666,  0.98803162, -0.17604595,  0.89399666,\n",
       "         0.        ],\n",
       "       [-0.30481062,  0.85090352, -0.85090352,  0.89399666, -0.85090352,\n",
       "        -0.80115264]])"
      ]
     },
     "execution_count": 179,
     "metadata": {},
     "output_type": "execute_result"
    }
   ],
   "source": [
    "np.sin(e)"
   ]
  },
  {
   "cell_type": "code",
   "execution_count": 180,
   "id": "d966ea1b",
   "metadata": {},
   "outputs": [],
   "source": [
    "# Exercise 2 - Find the cosine of all the numbers in d"
   ]
  },
  {
   "cell_type": "code",
   "execution_count": 181,
   "id": "4802c9c6",
   "metadata": {
    "scrolled": false
   },
   "outputs": [
    {
     "data": {
      "text/plain": [
       "array([[-0.44807362,  0.15425145,  0.52532199,  1.        ,  0.81418097,\n",
       "        -0.59846007],\n",
       "       [ 0.52532199, -0.44807362,  0.15425145,  0.98438195, -0.44807362,\n",
       "         1.        ],\n",
       "       [-0.95241298,  0.52532199,  0.52532199, -0.44807362,  0.52532199,\n",
       "        -0.59846007]])"
      ]
     },
     "execution_count": 181,
     "metadata": {},
     "output_type": "execute_result"
    }
   ],
   "source": [
    "np.cos(e)"
   ]
  },
  {
   "cell_type": "code",
   "execution_count": 182,
   "id": "8dd79126",
   "metadata": {},
   "outputs": [],
   "source": [
    "# Exercise 3 - Find the tangent of all the numbers in d"
   ]
  },
  {
   "cell_type": "code",
   "execution_count": 183,
   "id": "6568bd09",
   "metadata": {
    "scrolled": true
   },
   "outputs": [
    {
     "data": {
      "text/plain": [
       "array([[-1.99520041, -6.4053312 ,  1.61977519,  0.        ,  0.71312301,\n",
       "         1.33869021],\n",
       "       [ 1.61977519,  1.99520041,  6.4053312 , -0.17883906, -1.99520041,\n",
       "         0.        ],\n",
       "       [ 0.32004039,  1.61977519, -1.61977519, -1.99520041, -1.61977519,\n",
       "         1.33869021]])"
      ]
     },
     "execution_count": 183,
     "metadata": {},
     "output_type": "execute_result"
    }
   ],
   "source": [
    "np.tan(e)"
   ]
  },
  {
   "cell_type": "code",
   "execution_count": 210,
   "id": "d0ac2e44",
   "metadata": {},
   "outputs": [],
   "source": [
    "# Exercise 4 - Find all the negative numbers in d"
   ]
  },
  {
   "cell_type": "code",
   "execution_count": 211,
   "id": "fd9797a7",
   "metadata": {},
   "outputs": [],
   "source": [
    "neg_nums = np.where(e < 0, True, False)"
   ]
  },
  {
   "cell_type": "code",
   "execution_count": 212,
   "id": "fb0db875",
   "metadata": {},
   "outputs": [],
   "source": [
    "neg_values = np.count_nonzero(neg_nums)"
   ]
  },
  {
   "cell_type": "code",
   "execution_count": 213,
   "id": "43988d9f",
   "metadata": {},
   "outputs": [],
   "source": [
    "neg_view = e[e < 0]"
   ]
  },
  {
   "cell_type": "code",
   "execution_count": 217,
   "id": "0822c99e",
   "metadata": {
    "scrolled": true
   },
   "outputs": [
    {
     "data": {
      "text/plain": [
       "array([-90, -30, -45, -45])"
      ]
     },
     "execution_count": 217,
     "metadata": {},
     "output_type": "execute_result"
    }
   ],
   "source": [
    "neg_view"
   ]
  },
  {
   "cell_type": "code",
   "execution_count": 215,
   "id": "4e63f02f",
   "metadata": {},
   "outputs": [],
   "source": [
    "# Exercise 5 - Find all the positive numbers in d"
   ]
  },
  {
   "cell_type": "code",
   "execution_count": 216,
   "id": "da667230",
   "metadata": {},
   "outputs": [
    {
     "name": "stdout",
     "output_type": "stream",
     "text": [
      "This array has 4 negative numbers.\n"
     ]
    }
   ],
   "source": [
    "print(\"This array has\", neg_values, \"negative numbers.\")"
   ]
  },
  {
   "cell_type": "code",
   "execution_count": 191,
   "id": "312abae2",
   "metadata": {},
   "outputs": [],
   "source": [
    "pos_nums = np.where(e > 0, True, False)"
   ]
  },
  {
   "cell_type": "code",
   "execution_count": 192,
   "id": "d403ce70",
   "metadata": {},
   "outputs": [],
   "source": [
    "pos_values = np.count_nonzero(pos_nums)"
   ]
  },
  {
   "cell_type": "code",
   "execution_count": 193,
   "id": "8ec95c67",
   "metadata": {},
   "outputs": [],
   "source": [
    "pos_view = e[e > 0]"
   ]
  },
  {
   "cell_type": "code",
   "execution_count": 194,
   "id": "be96c8e3",
   "metadata": {
    "scrolled": true
   },
   "outputs": [
    {
     "data": {
      "text/plain": [
       "array([ 90,  30,  45, 120, 180,  45, 270,  90,  60,  45,  90, 180])"
      ]
     },
     "execution_count": 194,
     "metadata": {},
     "output_type": "execute_result"
    }
   ],
   "source": [
    "pos_view"
   ]
  },
  {
   "cell_type": "code",
   "execution_count": 195,
   "id": "0ab3c0f5",
   "metadata": {},
   "outputs": [
    {
     "name": "stdout",
     "output_type": "stream",
     "text": [
      "This array has 12 postive numbers.\n"
     ]
    }
   ],
   "source": [
    "print(\"This array has\", pos_values, \"postive numbers.\")"
   ]
  },
  {
   "cell_type": "code",
   "execution_count": 196,
   "id": "d79d626f",
   "metadata": {},
   "outputs": [],
   "source": [
    "# Exercise 6 - Return an array of only the unique numbers in d."
   ]
  },
  {
   "cell_type": "code",
   "execution_count": 197,
   "id": "2c88a084",
   "metadata": {},
   "outputs": [],
   "source": [
    "unique_nums = np.unique(e)"
   ]
  },
  {
   "cell_type": "code",
   "execution_count": 198,
   "id": "3f910e89",
   "metadata": {
    "scrolled": true
   },
   "outputs": [
    {
     "data": {
      "text/plain": [
       "array([-90, -45, -30,   0,  30,  45,  60,  90, 120, 180, 270])"
      ]
     },
     "execution_count": 198,
     "metadata": {},
     "output_type": "execute_result"
    }
   ],
   "source": [
    "unique_nums"
   ]
  },
  {
   "cell_type": "code",
   "execution_count": 199,
   "id": "2fd2f3fb",
   "metadata": {},
   "outputs": [],
   "source": [
    "# Exercise 7 - Determine how many unique numbers there are in d."
   ]
  },
  {
   "cell_type": "code",
   "execution_count": 200,
   "id": "726cf263",
   "metadata": {},
   "outputs": [],
   "source": [
    "unique_values = np.count_nonzero(unique_nums)"
   ]
  },
  {
   "cell_type": "code",
   "execution_count": 201,
   "id": "291cf680",
   "metadata": {
    "scrolled": true
   },
   "outputs": [
    {
     "data": {
      "text/plain": [
       "10"
      ]
     },
     "execution_count": 201,
     "metadata": {},
     "output_type": "execute_result"
    }
   ],
   "source": [
    "unique_values"
   ]
  },
  {
   "cell_type": "code",
   "execution_count": 202,
   "id": "0909b600",
   "metadata": {},
   "outputs": [],
   "source": [
    "# Exercise 8 - Print out the shape of d."
   ]
  },
  {
   "cell_type": "code",
   "execution_count": 203,
   "id": "1ec08ecc",
   "metadata": {
    "scrolled": false
   },
   "outputs": [
    {
     "data": {
      "text/plain": [
       "(3, 6)"
      ]
     },
     "execution_count": 203,
     "metadata": {},
     "output_type": "execute_result"
    }
   ],
   "source": [
    "e.shape"
   ]
  },
  {
   "cell_type": "code",
   "execution_count": 204,
   "id": "365f0694",
   "metadata": {},
   "outputs": [],
   "source": [
    "# Exercise 9 - Transpose and then print out the shape of d."
   ]
  },
  {
   "cell_type": "code",
   "execution_count": 205,
   "id": "af650968",
   "metadata": {},
   "outputs": [],
   "source": [
    "et = e.transpose()"
   ]
  },
  {
   "cell_type": "code",
   "execution_count": 206,
   "id": "63e5e437",
   "metadata": {},
   "outputs": [
    {
     "name": "stdout",
     "output_type": "stream",
     "text": [
      "[[ 90  45  60]\n",
      " [ 30 -90  45]\n",
      " [ 45 -30 -45]\n",
      " [  0 270  90]\n",
      " [120  90 -45]\n",
      " [180   0 180]]\n"
     ]
    }
   ],
   "source": [
    "print(et)"
   ]
  },
  {
   "cell_type": "code",
   "execution_count": 207,
   "id": "bd8f6640",
   "metadata": {},
   "outputs": [],
   "source": [
    "# Exercise 10 - Reshape d into an array of 9 x 2"
   ]
  },
  {
   "cell_type": "code",
   "execution_count": 208,
   "id": "8ad08b16",
   "metadata": {},
   "outputs": [],
   "source": [
    "reshape_e = np.reshape(e, (9, 2))"
   ]
  },
  {
   "cell_type": "code",
   "execution_count": 209,
   "id": "51d20521",
   "metadata": {
    "scrolled": true
   },
   "outputs": [
    {
     "data": {
      "text/plain": [
       "array([[ 90,  30],\n",
       "       [ 45,   0],\n",
       "       [120, 180],\n",
       "       [ 45, -90],\n",
       "       [-30, 270],\n",
       "       [ 90,   0],\n",
       "       [ 60,  45],\n",
       "       [-45,  90],\n",
       "       [-45, 180]])"
      ]
     },
     "execution_count": 209,
     "metadata": {},
     "output_type": "execute_result"
    }
   ],
   "source": [
    "reshape_e "
   ]
  }
 ],
 "metadata": {
  "kernelspec": {
   "display_name": "python3_10_8",
   "language": "python",
   "name": "python3_10_8"
  },
  "language_info": {
   "codemirror_mode": {
    "name": "ipython",
    "version": 3
   },
   "file_extension": ".py",
   "mimetype": "text/x-python",
   "name": "python",
   "nbconvert_exporter": "python",
   "pygments_lexer": "ipython3",
   "version": "3.9.6"
  }
 },
 "nbformat": 4,
 "nbformat_minor": 5
}
