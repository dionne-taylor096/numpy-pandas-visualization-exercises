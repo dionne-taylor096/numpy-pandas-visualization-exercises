{
 "cells": [
  {
   "cell_type": "code",
   "execution_count": null,
   "id": "24ef3cfe",
   "metadata": {},
   "outputs": [],
   "source": [
    "import numpy as np"
   ]
  },
  {
   "cell_type": "code",
   "execution_count": null,
   "id": "40bb51e1",
   "metadata": {},
   "outputs": [],
   "source": [
    "a = np.array([4, 10, 12, 23, -2, -1, 0, 0, 0, -6, 3, -7])"
   ]
  },
  {
   "cell_type": "code",
   "execution_count": null,
   "id": "20437694",
   "metadata": {},
   "outputs": [],
   "source": [
    "neg = np.where(a < 0, True, False)"
   ]
  },
  {
   "cell_type": "code",
   "execution_count": null,
   "id": "72ac2c4a",
   "metadata": {},
   "outputs": [],
   "source": [
    "neg_values = np.count_nonzero(neg)"
   ]
  },
  {
   "cell_type": "code",
   "execution_count": null,
   "id": "393d4731",
   "metadata": {},
   "outputs": [],
   "source": [
    "print(\"This array has\", neg_values, \"negative numbers.\")"
   ]
  },
  {
   "cell_type": "code",
   "execution_count": null,
   "id": "feff84b6",
   "metadata": {},
   "outputs": [],
   "source": [
    "pos = np.where(a > 0, True, False)"
   ]
  },
  {
   "cell_type": "code",
   "execution_count": null,
   "id": "04a5d24c",
   "metadata": {},
   "outputs": [],
   "source": [
    "pos_values = np.count_nonzero(pos)"
   ]
  },
  {
   "cell_type": "code",
   "execution_count": null,
   "id": "825120af",
   "metadata": {},
   "outputs": [],
   "source": [
    "print(\"This array has\", pos_values, \"positive numbers.\")"
   ]
  },
  {
   "cell_type": "code",
   "execution_count": null,
   "id": "3ab194cd",
   "metadata": {},
   "outputs": [],
   "source": [
    "pos_even = np.where(a % 2, True, False)"
   ]
  },
  {
   "cell_type": "code",
   "execution_count": null,
   "id": "322779b2",
   "metadata": {},
   "outputs": [],
   "source": [
    "pos_even_values = np.count_nonzero(pos_even)"
   ]
  },
  {
   "cell_type": "code",
   "execution_count": null,
   "id": "6b4ca881",
   "metadata": {},
   "outputs": [],
   "source": [
    "print(\"This array has\", {pos_even_values}, \"positive even numbers.\")"
   ]
  },
  {
   "cell_type": "code",
   "execution_count": null,
   "id": "8b456d49",
   "metadata": {},
   "outputs": [],
   "source": [
    "a = np.add(a, 3)"
   ]
  },
  {
   "cell_type": "code",
   "execution_count": null,
   "id": "144362c7",
   "metadata": {},
   "outputs": [],
   "source": [
    "a"
   ]
  },
  {
   "cell_type": "code",
   "execution_count": null,
   "id": "f6a66b02",
   "metadata": {},
   "outputs": [],
   "source": [
    "a_mean = np.mean(a)"
   ]
  },
  {
   "cell_type": "code",
   "execution_count": null,
   "id": "2d21b273",
   "metadata": {},
   "outputs": [],
   "source": [
    "a_mean"
   ]
  },
  {
   "cell_type": "code",
   "execution_count": null,
   "id": "03657e08",
   "metadata": {},
   "outputs": [],
   "source": [
    "a_squared = np.square(a)"
   ]
  },
  {
   "cell_type": "code",
   "execution_count": null,
   "id": "92309390",
   "metadata": {},
   "outputs": [],
   "source": [
    "a_squared"
   ]
  },
  {
   "cell_type": "code",
   "execution_count": null,
   "id": "e5b771f8",
   "metadata": {},
   "outputs": [],
   "source": [
    "a_mean = np.mean(a)"
   ]
  },
  {
   "cell_type": "code",
   "execution_count": null,
   "id": "646a6d96",
   "metadata": {},
   "outputs": [],
   "source": [
    "a_mean"
   ]
  },
  {
   "cell_type": "code",
   "execution_count": null,
   "id": "85a6d2ab",
   "metadata": {},
   "outputs": [],
   "source": [
    "a_std = np.std(a)"
   ]
  },
  {
   "cell_type": "code",
   "execution_count": null,
   "id": "d5dd28c7",
   "metadata": {},
   "outputs": [],
   "source": [
    "a_std"
   ]
  },
  {
   "cell_type": "code",
   "execution_count": null,
   "id": "940dc2a0",
   "metadata": {},
   "outputs": [],
   "source": [
    "a_subtract = np.subtract(a, 6)"
   ]
  },
  {
   "cell_type": "code",
   "execution_count": null,
   "id": "020f79ee",
   "metadata": {},
   "outputs": [],
   "source": [
    "a_subtract"
   ]
  },
  {
   "cell_type": "code",
   "execution_count": null,
   "id": "1d1d55ce",
   "metadata": {},
   "outputs": [],
   "source": [
    "def z_score(a, a_mean, a_std):\n",
    "    return (a - a_mean) / a_std"
   ]
  },
  {
   "cell_type": "code",
   "execution_count": null,
   "id": "c16c47e0",
   "metadata": {},
   "outputs": [],
   "source": [
    "import sys\n",
    "print (sys.version)"
   ]
  },
  {
   "cell_type": "code",
   "execution_count": null,
   "id": "fd7419cf",
   "metadata": {},
   "outputs": [],
   "source": [
    "import statistics\n",
    "print('NormalDist' in dir(statistics))"
   ]
  },
  {
   "cell_type": "code",
   "execution_count": null,
   "id": "696a5541",
   "metadata": {},
   "outputs": [],
   "source": [
    "test = statistics.NormalDist(6.0, 8.06) "
   ]
  },
  {
   "cell_type": "code",
   "execution_count": null,
   "id": "9291c296",
   "metadata": {},
   "outputs": [],
   "source": [
    "test"
   ]
  },
  {
   "cell_type": "code",
   "execution_count": null,
   "id": "f0245a66",
   "metadata": {},
   "outputs": [],
   "source": [
    "## z_score = value - mean/std"
   ]
  },
  {
   "cell_type": "code",
   "execution_count": null,
   "id": "b2cc9e19",
   "metadata": {},
   "outputs": [],
   "source": [
    "z_score = np.divide(np.subtract(a, a_mean), a_std)"
   ]
  },
  {
   "cell_type": "code",
   "execution_count": null,
   "id": "7f9c2b93",
   "metadata": {},
   "outputs": [],
   "source": [
    "z_score"
   ]
  },
  {
   "cell_type": "code",
   "execution_count": null,
   "id": "794e84d4",
   "metadata": {},
   "outputs": [],
   "source": [
    "## Setup 1\n",
    "a = [1, 2, 3, 4, 5, 6, 7, 8, 9, 10]"
   ]
  },
  {
   "cell_type": "code",
   "execution_count": null,
   "id": "6de83933",
   "metadata": {},
   "outputs": [],
   "source": [
    "# Use python's built in functionality/operators to determine the following:\n",
    "# Exercise 1 - Make a variable called sum_of_a to hold the sum of all the numbers in above list\n",
    "\n",
    "# Exercise 2 - Make a variable named min_of_a to hold the minimum of all the numbers in the above list\n",
    "\n",
    "# Exercise 3 - Make a variable named max_of_a to hold the max number of all the numbers in the above list\n",
    "\n",
    "# Exercise 4 - Make a variable named mean_of_a to hold the average of all the numbers in the above list\n",
    "\n",
    "# Exercise 5 - Make a variable named product_of_a to hold the product of multiplying all the numbers in the above list together\n",
    "\n",
    "# Exercise 6 - Make a variable named squares_of_a. It should hold each number in a squared like [1, 4, 9, 16, 25...]\n",
    "\n",
    "# Exercise 7 - Make a variable named odds_in_a. It should hold only the odd numbers\n",
    "\n",
    "# Exercise 8 - Make a variable named evens_in_a. It should hold only the evens.\n",
    "\n",
    "## What about life in two dimensions? A list of lists is matrix, a table, a spreadsheet, a chessboard...\n",
    "## Setup 2: Consider what it would take to find the sum, min, max, average, sum, product, and list of squares for this list of two lists.\n",
    "b = [\n",
    "    [3, 4, 5],\n",
    "    [6, 7, 8]\n",
    "]\n",
    "\n",
    "# Exercise 1 - refactor the following to use numpy. Use sum_of_b as the variable. **Hint, you'll first need to make sure that the \"b\" variable is a numpy array**\n",
    "sum_of_b = 0\n",
    "for row in b:\n",
    "    sum_of_b += sum(row)\n",
    "\n",
    "# Exercise 2 - refactor the following to use numpy. \n",
    "min_of_b = min(b[0]) if min(b[0]) <= min(b[1]) else min(b[1])  \n",
    "\n",
    "# Exercise 3 - refactor the following maximum calculation to find the answer with numpy.\n",
    "max_of_b = max(b[0]) if max(b[0]) >= max(b[1]) else max(b[1])\n",
    "\n",
    "\n",
    "# Exercise 4 - refactor the following using numpy to find the mean of b\n",
    "mean_of_b = (sum(b[0]) + sum(b[1])) / (len(b[0]) + len(b[1]))\n",
    "\n",
    "# Exercise 5 - refactor the following to use numpy for calculating the product of all numbers multiplied together.\n",
    "product_of_b = 1\n",
    "for row in b:\n",
    "    for number in row:\n",
    "        product_of_b *= number\n",
    "\n",
    "# Exercise 6 - refactor the following to use numpy to find the list of squares \n",
    "squares_of_b = []\n",
    "for row in b:\n",
    "    for number in row:\n",
    "        squares_of_b.append(number**2)\n",
    "\n",
    "\n",
    "# Exercise 7 - refactor using numpy to determine the odds_in_b\n",
    "odds_in_b = []\n",
    "for row in b:\n",
    "    for number in row:\n",
    "        if(number % 2 != 0):\n",
    "            odds_in_b.append(number)\n",
    "\n",
    "\n",
    "# Exercise 8 - refactor the following to use numpy to filter only the even numbers\n",
    "evens_in_b = []\n",
    "for row in b:\n",
    "    for number in row:\n",
    "        if(number % 2 == 0):\n",
    "            evens_in_b.append(number)\n",
    "\n",
    "# Exercise 9 - print out the shape of the array b.\n",
    "\n",
    "# Exercise 10 - transpose the array b.\n",
    "\n",
    "# Exercise 11 - reshape the array b to be a single list of 6 numbers. (1 x 6)\n",
    "\n",
    "# Exercise 12 - reshape the array b to be a list of 6 lists, each containing only 1 number (6 x 1)\n",
    "\n",
    "## Setup 3\n",
    "c = [\n",
    "    [1, 2, 3],\n",
    "    [4, 5, 6],\n",
    "    [7, 8, 9]\n",
    "]\n",
    "\n",
    "# HINT, you'll first need to make sure that the \"c\" variable is a numpy array prior to using numpy array methods.\n",
    "# Exercise 1 - Find the min, max, sum, and product of c.\n",
    "\n",
    "# Exercise 2 - Determine the standard deviation of c.\n",
    "\n",
    "# Exercise 3 - Determine the variance of c.\n",
    "\n",
    "# Exercise 4 - Print out the shape of the array c\n",
    "\n",
    "# Exercise 5 - Transpose c and print out transposed result.\n",
    "\n",
    "# Exercise 6 - Get the dot product of the array c with c. \n",
    "\n",
    "# Exercise 7 - Write the code necessary to sum up the result of c times c transposed. Answer should be 261\n",
    "\n",
    "# Exercise 8 - Write the code necessary to determine the product of c times c transposed. Answer should be 131681894400.\n",
    "\n",
    "\n",
    "## Setup 4\n",
    "d = [\n",
    "    [90, 30, 45, 0, 120, 180],\n",
    "    [45, -90, -30, 270, 90, 0],\n",
    "    [60, 45, -45, 90, -45, 180]\n",
    "]\n",
    "\n",
    "# Exercise 1 - Find the sine of all the numbers in d\n",
    "\n",
    "# Exercise 2 - Find the cosine of all the numbers in d\n",
    "\n",
    "# Exercise 3 - Find the tangent of all the numbers in d\n",
    "\n",
    "# Exercise 4 - Find all the negative numbers in d\n",
    "\n",
    "# Exercise 5 - Find all the positive numbers in d\n",
    "\n",
    "# Exercise 6 - Return an array of only the unique numbers in d.\n",
    "\n",
    "# Exercise 7 - Determine how many unique numbers there are in d.\n",
    "\n",
    "# Exercise 8 - Print out the shape of d.\n",
    "\n",
    "# Exercise 9 - Transpose and then print out the shape of d.\n",
    "\n",
    "# Exercise 10 - Reshape d into an array of 9 x 2"
   ]
  }
 ],
 "metadata": {
  "kernelspec": {
   "display_name": "Python 3 (ipykernel)",
   "language": "python",
   "name": "python3"
  },
  "language_info": {
   "codemirror_mode": {
    "name": "ipython",
    "version": 3
   },
   "file_extension": ".py",
   "mimetype": "text/x-python",
   "name": "python",
   "nbconvert_exporter": "python",
   "pygments_lexer": "ipython3",
   "version": "3.10.8"
  }
 },
 "nbformat": 4,
 "nbformat_minor": 5
}
